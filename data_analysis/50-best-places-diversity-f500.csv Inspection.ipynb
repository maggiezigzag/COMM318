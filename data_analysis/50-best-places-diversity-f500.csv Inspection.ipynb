{
 "cells": [
  {
   "cell_type": "code",
   "execution_count": 1,
   "metadata": {},
   "outputs": [],
   "source": [
    "# Import packages\n",
    "import matplotlib.pyplot as plt\n",
    "import pandas as pd\n",
    "import numpy as np\n",
    "# Read in data and save as a dataframe\n",
    "best_df = pd.read_csv('50-best-places-diversity-f500.csv')"
   ]
  },
  {
   "cell_type": "code",
   "execution_count": 2,
   "metadata": {},
   "outputs": [
    {
     "data": {
      "text/html": [
       "<div>\n",
       "<style scoped>\n",
       "    .dataframe tbody tr th:only-of-type {\n",
       "        vertical-align: middle;\n",
       "    }\n",
       "\n",
       "    .dataframe tbody tr th {\n",
       "        vertical-align: top;\n",
       "    }\n",
       "\n",
       "    .dataframe thead th {\n",
       "        text-align: right;\n",
       "    }\n",
       "</style>\n",
       "<table border=\"1\" class=\"dataframe\">\n",
       "  <thead>\n",
       "    <tr style=\"text-align: right;\">\n",
       "      <th></th>\n",
       "      <th>rank</th>\n",
       "      <th>Company</th>\n",
       "      <th>Diversity List URL</th>\n",
       "      <th>Type</th>\n",
       "      <th>City</th>\n",
       "      <th>State</th>\n",
       "      <th>Industry</th>\n",
       "      <th>F500-2017</th>\n",
       "    </tr>\n",
       "  </thead>\n",
       "  <tbody>\n",
       "    <tr>\n",
       "      <th>0</th>\n",
       "      <td>1</td>\n",
       "      <td>Texas Health Resources</td>\n",
       "      <td>http://fortune.com/best-workplaces-for-diversi...</td>\n",
       "      <td>Non-Profit</td>\n",
       "      <td>Arlington</td>\n",
       "      <td>Texas</td>\n",
       "      <td>Health Care</td>\n",
       "      <td>N</td>\n",
       "    </tr>\n",
       "    <tr>\n",
       "      <th>1</th>\n",
       "      <td>2</td>\n",
       "      <td>Delta Air Lines</td>\n",
       "      <td>http://fortune.com/best-workplaces-for-diversi...</td>\n",
       "      <td>Public</td>\n",
       "      <td>Atlanta</td>\n",
       "      <td>Georgia</td>\n",
       "      <td>Transportation</td>\n",
       "      <td>Y</td>\n",
       "    </tr>\n",
       "    <tr>\n",
       "      <th>2</th>\n",
       "      <td>3</td>\n",
       "      <td>Navy Federal Credit Union</td>\n",
       "      <td>http://fortune.com/best-workplaces-for-diversi...</td>\n",
       "      <td>Non-Profit</td>\n",
       "      <td>Vienna</td>\n",
       "      <td>Virginia</td>\n",
       "      <td>Financial Services</td>\n",
       "      <td>N</td>\n",
       "    </tr>\n",
       "    <tr>\n",
       "      <th>3</th>\n",
       "      <td>4</td>\n",
       "      <td>Kimpton Hotels &amp; Restaurants</td>\n",
       "      <td>http://fortune.com/best-workplaces-for-diversi...</td>\n",
       "      <td>Public</td>\n",
       "      <td>San Francisco</td>\n",
       "      <td>California</td>\n",
       "      <td>Hospitality</td>\n",
       "      <td>N</td>\n",
       "    </tr>\n",
       "    <tr>\n",
       "      <th>4</th>\n",
       "      <td>5</td>\n",
       "      <td>Ultimate Software</td>\n",
       "      <td>http://fortune.com/best-workplaces-for-diversi...</td>\n",
       "      <td>Public</td>\n",
       "      <td>Weston</td>\n",
       "      <td>Florida</td>\n",
       "      <td>Technology</td>\n",
       "      <td>N</td>\n",
       "    </tr>\n",
       "  </tbody>\n",
       "</table>\n",
       "</div>"
      ],
      "text/plain": [
       "   rank                       Company  \\\n",
       "0     1        Texas Health Resources   \n",
       "1     2               Delta Air Lines   \n",
       "2     3     Navy Federal Credit Union   \n",
       "3     4  Kimpton Hotels & Restaurants   \n",
       "4     5             Ultimate Software   \n",
       "\n",
       "                                  Diversity List URL        Type  \\\n",
       "0  http://fortune.com/best-workplaces-for-diversi...  Non-Profit   \n",
       "1  http://fortune.com/best-workplaces-for-diversi...      Public   \n",
       "2  http://fortune.com/best-workplaces-for-diversi...  Non-Profit   \n",
       "3  http://fortune.com/best-workplaces-for-diversi...      Public   \n",
       "4  http://fortune.com/best-workplaces-for-diversi...      Public   \n",
       "\n",
       "            City       State            Industry F500-2017  \n",
       "0      Arlington       Texas         Health Care         N  \n",
       "1        Atlanta     Georgia      Transportation         Y  \n",
       "2         Vienna    Virginia  Financial Services         N  \n",
       "3  San Francisco  California         Hospitality         N  \n",
       "4         Weston     Florida          Technology         N  "
      ]
     },
     "execution_count": 2,
     "metadata": {},
     "output_type": "execute_result"
    }
   ],
   "source": [
    "# Inspect the data\n",
    "best_df.head()"
   ]
  },
  {
   "cell_type": "code",
   "execution_count": 4,
   "metadata": {},
   "outputs": [
    {
     "name": "stdout",
     "output_type": "stream",
     "text": [
      "Financial Services            13\n",
      "Health Care                    8\n",
      "Technology                     7\n",
      "Retail                         5\n",
      "Legal                          2\n",
      "Telecommunications             2\n",
      "Hospitality                    2\n",
      "Professional Services          2\n",
      "Consulting                     2\n",
      "Biotechnology                  1\n",
      "Automotive                     1\n",
      "Transportation                 1\n",
      "Marketing                      1\n",
      "Manufacturing & Production     1\n",
      "Real Estate                    1\n",
      "Information Technology         1\n",
      "Name: Industry, dtype: int64\n"
     ]
    }
   ],
   "source": [
    "# Get number of counts in each industry represented\n",
    "best_df['Industry'].value_counts()"
   ]
  },
  {
   "cell_type": "code",
   "execution_count": null,
   "metadata": {},
   "outputs": [],
   "source": []
  }
 ],
 "metadata": {
  "kernelspec": {
   "display_name": "Python 3",
   "language": "python",
   "name": "python3"
  },
  "language_info": {
   "codemirror_mode": {
    "name": "ipython",
    "version": 3
   },
   "file_extension": ".py",
   "mimetype": "text/x-python",
   "name": "python",
   "nbconvert_exporter": "python",
   "pygments_lexer": "ipython3",
   "version": "3.7.3"
  }
 },
 "nbformat": 4,
 "nbformat_minor": 2
}
