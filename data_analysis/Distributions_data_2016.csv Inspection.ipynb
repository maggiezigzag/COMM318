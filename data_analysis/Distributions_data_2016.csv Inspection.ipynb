{
 "cells": [
  {
   "cell_type": "code",
   "execution_count": 1,
   "metadata": {},
   "outputs": [],
   "source": [
    "# Import packages\n",
    "%matplotlib inline\n",
    "import matplotlib.pyplot as plt\n",
    "import pandas as pd\n",
    "import numpy as np\n",
    "import seaborn as sns\n",
    "import plotly_express as px\n",
    "import math\n",
    "# Read data and save into dataframe\n",
    "dist_df = pd.read_csv('Distributions_data_2016.csv')"
   ]
  },
  {
   "cell_type": "code",
   "execution_count": 2,
   "metadata": {},
   "outputs": [
    {
     "data": {
      "text/plain": [
       "(16042, 4)"
      ]
     },
     "execution_count": 2,
     "metadata": {},
     "output_type": "execute_result"
    }
   ],
   "source": [
    "# Inspect data\n",
    "dist_df.shape"
   ]
  },
  {
   "cell_type": "code",
   "execution_count": 3,
   "metadata": {},
   "outputs": [
    {
     "data": {
      "text/plain": [
       "Index(['company', 'percentage', 'demographics', 'job_category'], dtype='object')"
      ]
     },
     "execution_count": 3,
     "metadata": {},
     "output_type": "execute_result"
    }
   ],
   "source": [
    "dist_df.columns"
   ]
  },
  {
   "cell_type": "code",
   "execution_count": 4,
   "metadata": {},
   "outputs": [
    {
     "data": {
      "text/html": [
       "<div>\n",
       "<style scoped>\n",
       "    .dataframe tbody tr th:only-of-type {\n",
       "        vertical-align: middle;\n",
       "    }\n",
       "\n",
       "    .dataframe tbody tr th {\n",
       "        vertical-align: top;\n",
       "    }\n",
       "\n",
       "    .dataframe thead th {\n",
       "        text-align: right;\n",
       "    }\n",
       "</style>\n",
       "<table border=\"1\" class=\"dataframe\">\n",
       "  <thead>\n",
       "    <tr style=\"text-align: right;\">\n",
       "      <th></th>\n",
       "      <th>company</th>\n",
       "      <th>percentage</th>\n",
       "      <th>demographics</th>\n",
       "      <th>job_category</th>\n",
       "    </tr>\n",
       "  </thead>\n",
       "  <tbody>\n",
       "    <tr>\n",
       "      <th>0</th>\n",
       "      <td>anonymous</td>\n",
       "      <td>0.0</td>\n",
       "      <td>Hispanic_or_Latino</td>\n",
       "      <td>Professionals</td>\n",
       "    </tr>\n",
       "    <tr>\n",
       "      <th>1</th>\n",
       "      <td>anonymous</td>\n",
       "      <td>0.0</td>\n",
       "      <td>Hispanic_or_Latino</td>\n",
       "      <td>Professionals</td>\n",
       "    </tr>\n",
       "    <tr>\n",
       "      <th>2</th>\n",
       "      <td>anonymous</td>\n",
       "      <td>0.8</td>\n",
       "      <td>Hispanic_or_Latino</td>\n",
       "      <td>Professionals</td>\n",
       "    </tr>\n",
       "    <tr>\n",
       "      <th>3</th>\n",
       "      <td>anonymous</td>\n",
       "      <td>1.3</td>\n",
       "      <td>Hispanic_or_Latino</td>\n",
       "      <td>Professionals</td>\n",
       "    </tr>\n",
       "    <tr>\n",
       "      <th>4</th>\n",
       "      <td>anonymous</td>\n",
       "      <td>1.6</td>\n",
       "      <td>Hispanic_or_Latino</td>\n",
       "      <td>Professionals</td>\n",
       "    </tr>\n",
       "  </tbody>\n",
       "</table>\n",
       "</div>"
      ],
      "text/plain": [
       "     company  percentage        demographics   job_category\n",
       "0  anonymous         0.0  Hispanic_or_Latino  Professionals\n",
       "1  anonymous         0.0  Hispanic_or_Latino  Professionals\n",
       "2  anonymous         0.8  Hispanic_or_Latino  Professionals\n",
       "3  anonymous         1.3  Hispanic_or_Latino  Professionals\n",
       "4  anonymous         1.6  Hispanic_or_Latino  Professionals"
      ]
     },
     "execution_count": 4,
     "metadata": {},
     "output_type": "execute_result"
    }
   ],
   "source": [
    "dist_df.head()"
   ]
  },
  {
   "cell_type": "code",
   "execution_count": 5,
   "metadata": {},
   "outputs": [
    {
     "data": {
      "text/html": [
       "<div>\n",
       "<style scoped>\n",
       "    .dataframe tbody tr th:only-of-type {\n",
       "        vertical-align: middle;\n",
       "    }\n",
       "\n",
       "    .dataframe tbody tr th {\n",
       "        vertical-align: top;\n",
       "    }\n",
       "\n",
       "    .dataframe thead th {\n",
       "        text-align: right;\n",
       "    }\n",
       "</style>\n",
       "<table border=\"1\" class=\"dataframe\">\n",
       "  <thead>\n",
       "    <tr style=\"text-align: right;\">\n",
       "      <th></th>\n",
       "      <th>company</th>\n",
       "      <th>percentage</th>\n",
       "      <th>demographics</th>\n",
       "      <th>job_category</th>\n",
       "    </tr>\n",
       "  </thead>\n",
       "  <tbody>\n",
       "    <tr>\n",
       "      <th>16037</th>\n",
       "      <td>Uber</td>\n",
       "      <td>42.8</td>\n",
       "      <td>Underrepresented_minorities</td>\n",
       "      <td>Sales workers/admin support/technicians and ot...</td>\n",
       "    </tr>\n",
       "    <tr>\n",
       "      <th>16038</th>\n",
       "      <td>anonymous</td>\n",
       "      <td>44.4</td>\n",
       "      <td>Underrepresented_minorities</td>\n",
       "      <td>Sales workers/admin support/technicians and ot...</td>\n",
       "    </tr>\n",
       "    <tr>\n",
       "      <th>16039</th>\n",
       "      <td>anonymous</td>\n",
       "      <td>47.3</td>\n",
       "      <td>Underrepresented_minorities</td>\n",
       "      <td>Sales workers/admin support/technicians and ot...</td>\n",
       "    </tr>\n",
       "    <tr>\n",
       "      <th>16040</th>\n",
       "      <td>anonymous</td>\n",
       "      <td>48.0</td>\n",
       "      <td>Underrepresented_minorities</td>\n",
       "      <td>Sales workers/admin support/technicians and ot...</td>\n",
       "    </tr>\n",
       "    <tr>\n",
       "      <th>16041</th>\n",
       "      <td>anonymous</td>\n",
       "      <td>51.6</td>\n",
       "      <td>Underrepresented_minorities</td>\n",
       "      <td>Sales workers/admin support/technicians and ot...</td>\n",
       "    </tr>\n",
       "  </tbody>\n",
       "</table>\n",
       "</div>"
      ],
      "text/plain": [
       "         company  percentage                 demographics  \\\n",
       "16037       Uber        42.8  Underrepresented_minorities   \n",
       "16038  anonymous        44.4  Underrepresented_minorities   \n",
       "16039  anonymous        47.3  Underrepresented_minorities   \n",
       "16040  anonymous        48.0  Underrepresented_minorities   \n",
       "16041  anonymous        51.6  Underrepresented_minorities   \n",
       "\n",
       "                                            job_category  \n",
       "16037  Sales workers/admin support/technicians and ot...  \n",
       "16038  Sales workers/admin support/technicians and ot...  \n",
       "16039  Sales workers/admin support/technicians and ot...  \n",
       "16040  Sales workers/admin support/technicians and ot...  \n",
       "16041  Sales workers/admin support/technicians and ot...  "
      ]
     },
     "execution_count": 5,
     "metadata": {},
     "output_type": "execute_result"
    }
   ],
   "source": [
    "dist_df.tail()"
   ]
  },
  {
   "cell_type": "code",
   "execution_count": 6,
   "metadata": {},
   "outputs": [
    {
     "data": {
      "text/plain": [
       "array(['Hispanic_or_Latino', 'White', 'Black_or_African_American',\n",
       "       'Asian', 'Female_total', 'White_female', 'Asian_female',\n",
       "       'Black_or_African_American_female', 'Hispanic_or_Latino_female',\n",
       "       'Women_of_color', 'Underrepresented_minorities_female',\n",
       "       'People_of_color', 'Underrepresented_minorities'], dtype=object)"
      ]
     },
     "execution_count": 6,
     "metadata": {},
     "output_type": "execute_result"
    }
   ],
   "source": [
    "# Look at different demographics surveyed\n",
    "dist_df['demographics'].unique()"
   ]
  },
  {
   "cell_type": "code",
   "execution_count": 7,
   "metadata": {},
   "outputs": [],
   "source": [
    "# Create df of female percentages across all job categories\n",
    "distfem_df = dist_df[dist_df['demographics']=='Female_total']\n",
    "# Create same df with anonymous companies removed\n",
    "indexNames = distfem_df[distfem_df['company'] == 'anonymous' ].index\n",
    "# Get rid of anonymous companies\n",
    "distfem_df2 = distfem_df.drop(indexNames)"
   ]
  },
  {
   "cell_type": "code",
   "execution_count": 8,
   "metadata": {},
   "outputs": [
    {
     "data": {
      "text/plain": [
       "Underrepresented_minorities           1234\n",
       "People_of_color                       1234\n",
       "Female_total                          1234\n",
       "Women_of_color                        1234\n",
       "White_female                          1234\n",
       "Asian_female                          1234\n",
       "Hispanic_or_Latino_female             1234\n",
       "Asian                                 1234\n",
       "Black_or_African_American             1234\n",
       "Black_or_African_American_female      1234\n",
       "Hispanic_or_Latino                    1234\n",
       "White                                 1234\n",
       "Underrepresented_minorities_female    1234\n",
       "Name: demographics, dtype: int64"
      ]
     },
     "execution_count": 8,
     "metadata": {},
     "output_type": "execute_result"
    }
   ],
   "source": [
    "# Look at numbers of each demographic group\n",
    "dist_df['demographics'].value_counts()"
   ]
  },
  {
   "cell_type": "code",
   "execution_count": 9,
   "metadata": {},
   "outputs": [
    {
     "data": {
      "text/plain": [
       "array(['anonymous', 'eBay', 'Nvidia', 'Uber', 'Square', 'Pinterest',\n",
       "       'Salesforce', 'PayPal', 'MobileIron', 'Facebook', 'NetApp',\n",
       "       'Twitter', 'Adobe', 'Google', 'Cisco', 'LinkedIn', 'Apple',\n",
       "       'Airbnb', 'HPE', 'Intuit', 'Intel', 'HP Inc.', 'Sanmina',\n",
       "       '23andMe', 'Lyft', 'View'], dtype=object)"
      ]
     },
     "execution_count": 9,
     "metadata": {},
     "output_type": "execute_result"
    }
   ],
   "source": [
    "# Look at unique companies\n",
    "dist_df['company'].unique()"
   ]
  },
  {
   "cell_type": "code",
   "execution_count": 10,
   "metadata": {},
   "outputs": [
    {
     "data": {
      "text/plain": [
       "anonymous     13767\n",
       "Adobe            91\n",
       "eBay             91\n",
       "HPE              91\n",
       "Lyft             91\n",
       "Apple            91\n",
       "Square           91\n",
       "Uber             91\n",
       "NetApp           91\n",
       "Intel            91\n",
       "LinkedIn         91\n",
       "Twitter          91\n",
       "HP Inc.          91\n",
       "Salesforce       91\n",
       "Pinterest        91\n",
       "Google           91\n",
       "MobileIron       91\n",
       "Nvidia           91\n",
       "View             91\n",
       "PayPal           91\n",
       "Airbnb           91\n",
       "23andMe          91\n",
       "Cisco            91\n",
       "Sanmina          91\n",
       "Intuit           91\n",
       "Facebook         91\n",
       "Name: company, dtype: int64"
      ]
     },
     "execution_count": 10,
     "metadata": {},
     "output_type": "execute_result"
    }
   ],
   "source": [
    "# Look at number of data entries per company\n",
    "dist_df['company'].value_counts()"
   ]
  },
  {
   "cell_type": "code",
   "execution_count": 11,
   "metadata": {},
   "outputs": [
    {
     "data": {
      "text/plain": [
       "array(['Professionals', 'Executives', 'All Workers',\n",
       "       'Executives-Managers-Professionals', 'Executives and Managers',\n",
       "       'Managers', 'Sales workers/admin support/technicians and others'],\n",
       "      dtype=object)"
      ]
     },
     "execution_count": 11,
     "metadata": {},
     "output_type": "execute_result"
    }
   ],
   "source": [
    "# Look at unique job categories\n",
    "dist_df['job_category'].unique()"
   ]
  },
  {
   "cell_type": "code",
   "execution_count": 12,
   "metadata": {},
   "outputs": [
    {
     "data": {
      "text/plain": [
       "Executives                                            2301\n",
       "Executives and Managers                               2301\n",
       "Professionals                                         2301\n",
       "All Workers                                           2301\n",
       "Executives-Managers-Professionals                     2301\n",
       "Managers                                              2275\n",
       "Sales workers/admin support/technicians and others    2262\n",
       "Name: job_category, dtype: int64"
      ]
     },
     "execution_count": 12,
     "metadata": {},
     "output_type": "execute_result"
    }
   ],
   "source": [
    "# Look at number of entries per job category\n",
    "dist_df['job_category'].value_counts()"
   ]
  },
  {
   "cell_type": "code",
   "execution_count": 13,
   "metadata": {},
   "outputs": [
    {
     "data": {
      "text/html": [
       "<div>\n",
       "<style scoped>\n",
       "    .dataframe tbody tr th:only-of-type {\n",
       "        vertical-align: middle;\n",
       "    }\n",
       "\n",
       "    .dataframe tbody tr th {\n",
       "        vertical-align: top;\n",
       "    }\n",
       "\n",
       "    .dataframe thead th {\n",
       "        text-align: right;\n",
       "    }\n",
       "</style>\n",
       "<table border=\"1\" class=\"dataframe\">\n",
       "  <thead>\n",
       "    <tr style=\"text-align: right;\">\n",
       "      <th></th>\n",
       "      <th>company</th>\n",
       "      <th>percentage</th>\n",
       "      <th>demographics</th>\n",
       "      <th>job_category</th>\n",
       "    </tr>\n",
       "  </thead>\n",
       "  <tbody>\n",
       "    <tr>\n",
       "      <th>7319</th>\n",
       "      <td>23andMe</td>\n",
       "      <td>1.6</td>\n",
       "      <td>Black_or_African_American</td>\n",
       "      <td>Executives-Managers-Professionals</td>\n",
       "    </tr>\n",
       "    <tr>\n",
       "      <th>13888</th>\n",
       "      <td>23andMe</td>\n",
       "      <td>10.9</td>\n",
       "      <td>Hispanic_or_Latino</td>\n",
       "      <td>Sales workers/admin support/technicians and ot...</td>\n",
       "    </tr>\n",
       "    <tr>\n",
       "      <th>8254</th>\n",
       "      <td>23andMe</td>\n",
       "      <td>0.8</td>\n",
       "      <td>Black_or_African_American_female</td>\n",
       "      <td>Executives-Managers-Professionals</td>\n",
       "    </tr>\n",
       "    <tr>\n",
       "      <th>4707</th>\n",
       "      <td>23andMe</td>\n",
       "      <td>6.4</td>\n",
       "      <td>Hispanic_or_Latino</td>\n",
       "      <td>All Workers</td>\n",
       "    </tr>\n",
       "    <tr>\n",
       "      <th>4071</th>\n",
       "      <td>23andMe</td>\n",
       "      <td>0.0</td>\n",
       "      <td>Underrepresented_minorities_female</td>\n",
       "      <td>Executives</td>\n",
       "    </tr>\n",
       "    <tr>\n",
       "      <th>12529</th>\n",
       "      <td>23andMe</td>\n",
       "      <td>27.7</td>\n",
       "      <td>White_female</td>\n",
       "      <td>Managers</td>\n",
       "    </tr>\n",
       "    <tr>\n",
       "      <th>468</th>\n",
       "      <td>23andMe</td>\n",
       "      <td>2.4</td>\n",
       "      <td>Black_or_African_American</td>\n",
       "      <td>Professionals</td>\n",
       "    </tr>\n",
       "    <tr>\n",
       "      <th>14970</th>\n",
       "      <td>23andMe</td>\n",
       "      <td>15.2</td>\n",
       "      <td>Asian_female</td>\n",
       "      <td>Sales workers/admin support/technicians and ot...</td>\n",
       "    </tr>\n",
       "    <tr>\n",
       "      <th>14644</th>\n",
       "      <td>23andMe</td>\n",
       "      <td>89.1</td>\n",
       "      <td>Female_total</td>\n",
       "      <td>Sales workers/admin support/technicians and ot...</td>\n",
       "    </tr>\n",
       "    <tr>\n",
       "      <th>8883</th>\n",
       "      <td>23andMe</td>\n",
       "      <td>35.5</td>\n",
       "      <td>People_of_color</td>\n",
       "      <td>Executives-Managers-Professionals</td>\n",
       "    </tr>\n",
       "    <tr>\n",
       "      <th>4004</th>\n",
       "      <td>23andMe</td>\n",
       "      <td>5.9</td>\n",
       "      <td>Women_of_color</td>\n",
       "      <td>Executives</td>\n",
       "    </tr>\n",
       "    <tr>\n",
       "      <th>11168</th>\n",
       "      <td>23andMe</td>\n",
       "      <td>22.0</td>\n",
       "      <td>People_of_color</td>\n",
       "      <td>Executives and Managers</td>\n",
       "    </tr>\n",
       "    <tr>\n",
       "      <th>10258</th>\n",
       "      <td>23andMe</td>\n",
       "      <td>30.5</td>\n",
       "      <td>White_female</td>\n",
       "      <td>Executives and Managers</td>\n",
       "    </tr>\n",
       "    <tr>\n",
       "      <th>2644</th>\n",
       "      <td>23andMe</td>\n",
       "      <td>94.1</td>\n",
       "      <td>White</td>\n",
       "      <td>Executives</td>\n",
       "    </tr>\n",
       "    <tr>\n",
       "      <th>2655</th>\n",
       "      <td>23andMe</td>\n",
       "      <td>0.0</td>\n",
       "      <td>Black_or_African_American</td>\n",
       "      <td>Executives</td>\n",
       "    </tr>\n",
       "    <tr>\n",
       "      <th>8632</th>\n",
       "      <td>23andMe</td>\n",
       "      <td>18.3</td>\n",
       "      <td>Women_of_color</td>\n",
       "      <td>Executives-Managers-Professionals</td>\n",
       "    </tr>\n",
       "    <tr>\n",
       "      <th>6600</th>\n",
       "      <td>23andMe</td>\n",
       "      <td>37.4</td>\n",
       "      <td>People_of_color</td>\n",
       "      <td>All Workers</td>\n",
       "    </tr>\n",
       "    <tr>\n",
       "      <th>11138</th>\n",
       "      <td>23andMe</td>\n",
       "      <td>6.1</td>\n",
       "      <td>Underrepresented_minorities_female</td>\n",
       "      <td>Executives and Managers</td>\n",
       "    </tr>\n",
       "    <tr>\n",
       "      <th>1183</th>\n",
       "      <td>23andMe</td>\n",
       "      <td>14.8</td>\n",
       "      <td>Asian_female</td>\n",
       "      <td>Professionals</td>\n",
       "    </tr>\n",
       "    <tr>\n",
       "      <th>12655</th>\n",
       "      <td>23andMe</td>\n",
       "      <td>9.2</td>\n",
       "      <td>Asian_female</td>\n",
       "      <td>Managers</td>\n",
       "    </tr>\n",
       "    <tr>\n",
       "      <th>13688</th>\n",
       "      <td>23andMe</td>\n",
       "      <td>9.2</td>\n",
       "      <td>Underrepresented_minorities</td>\n",
       "      <td>Managers</td>\n",
       "    </tr>\n",
       "    <tr>\n",
       "      <th>14421</th>\n",
       "      <td>23andMe</td>\n",
       "      <td>21.7</td>\n",
       "      <td>Asian</td>\n",
       "      <td>Sales workers/admin support/technicians and ot...</td>\n",
       "    </tr>\n",
       "    <tr>\n",
       "      <th>575</th>\n",
       "      <td>23andMe</td>\n",
       "      <td>28.4</td>\n",
       "      <td>Asian</td>\n",
       "      <td>Professionals</td>\n",
       "    </tr>\n",
       "    <tr>\n",
       "      <th>6530</th>\n",
       "      <td>23andMe</td>\n",
       "      <td>8.8</td>\n",
       "      <td>Underrepresented_minorities_female</td>\n",
       "      <td>All Workers</td>\n",
       "    </tr>\n",
       "    <tr>\n",
       "      <th>10372</th>\n",
       "      <td>23andMe</td>\n",
       "      <td>8.5</td>\n",
       "      <td>Asian_female</td>\n",
       "      <td>Executives and Managers</td>\n",
       "    </tr>\n",
       "    <tr>\n",
       "      <th>12730</th>\n",
       "      <td>23andMe</td>\n",
       "      <td>0.0</td>\n",
       "      <td>Black_or_African_American_female</td>\n",
       "      <td>Managers</td>\n",
       "    </tr>\n",
       "    <tr>\n",
       "      <th>1909</th>\n",
       "      <td>23andMe</td>\n",
       "      <td>5.3</td>\n",
       "      <td>Underrepresented_minorities_female</td>\n",
       "      <td>Professionals</td>\n",
       "    </tr>\n",
       "    <tr>\n",
       "      <th>15511</th>\n",
       "      <td>23andMe</td>\n",
       "      <td>41.3</td>\n",
       "      <td>Women_of_color</td>\n",
       "      <td>Sales workers/admin support/technicians and ot...</td>\n",
       "    </tr>\n",
       "    <tr>\n",
       "      <th>15687</th>\n",
       "      <td>23andMe</td>\n",
       "      <td>26.1</td>\n",
       "      <td>Underrepresented_minorities_female</td>\n",
       "      <td>Sales workers/admin support/technicians and ot...</td>\n",
       "    </tr>\n",
       "    <tr>\n",
       "      <th>8821</th>\n",
       "      <td>23andMe</td>\n",
       "      <td>5.6</td>\n",
       "      <td>Underrepresented_minorities_female</td>\n",
       "      <td>Executives-Managers-Professionals</td>\n",
       "    </tr>\n",
       "    <tr>\n",
       "      <th>...</th>\n",
       "      <td>...</td>\n",
       "      <td>...</td>\n",
       "      <td>...</td>\n",
       "      <td>...</td>\n",
       "    </tr>\n",
       "    <tr>\n",
       "      <th>1210</th>\n",
       "      <td>eBay</td>\n",
       "      <td>17.3</td>\n",
       "      <td>Asian_female</td>\n",
       "      <td>Professionals</td>\n",
       "    </tr>\n",
       "    <tr>\n",
       "      <th>12854</th>\n",
       "      <td>eBay</td>\n",
       "      <td>1.0</td>\n",
       "      <td>Black_or_African_American_female</td>\n",
       "      <td>Managers</td>\n",
       "    </tr>\n",
       "    <tr>\n",
       "      <th>8118</th>\n",
       "      <td>eBay</td>\n",
       "      <td>15.5</td>\n",
       "      <td>Asian_female</td>\n",
       "      <td>Executives-Managers-Professionals</td>\n",
       "    </tr>\n",
       "    <tr>\n",
       "      <th>11272</th>\n",
       "      <td>eBay</td>\n",
       "      <td>38.4</td>\n",
       "      <td>People_of_color</td>\n",
       "      <td>Executives and Managers</td>\n",
       "    </tr>\n",
       "    <tr>\n",
       "      <th>10576</th>\n",
       "      <td>eBay</td>\n",
       "      <td>1.0</td>\n",
       "      <td>Black_or_African_American_female</td>\n",
       "      <td>Executives and Managers</td>\n",
       "    </tr>\n",
       "    <tr>\n",
       "      <th>12159</th>\n",
       "      <td>eBay</td>\n",
       "      <td>32.3</td>\n",
       "      <td>Asian</td>\n",
       "      <td>Managers</td>\n",
       "    </tr>\n",
       "    <tr>\n",
       "      <th>5942</th>\n",
       "      <td>eBay</td>\n",
       "      <td>1.0</td>\n",
       "      <td>Black_or_African_American_female</td>\n",
       "      <td>All Workers</td>\n",
       "    </tr>\n",
       "    <tr>\n",
       "      <th>15129</th>\n",
       "      <td>eBay</td>\n",
       "      <td>2.7</td>\n",
       "      <td>Black_or_African_American_female</td>\n",
       "      <td>Sales workers/admin support/technicians and ot...</td>\n",
       "    </tr>\n",
       "    <tr>\n",
       "      <th>10228</th>\n",
       "      <td>eBay</td>\n",
       "      <td>23.4</td>\n",
       "      <td>White_female</td>\n",
       "      <td>Executives and Managers</td>\n",
       "    </tr>\n",
       "    <tr>\n",
       "      <th>8629</th>\n",
       "      <td>eBay</td>\n",
       "      <td>17.7</td>\n",
       "      <td>Women_of_color</td>\n",
       "      <td>Executives-Managers-Professionals</td>\n",
       "    </tr>\n",
       "    <tr>\n",
       "      <th>4656</th>\n",
       "      <td>eBay</td>\n",
       "      <td>4.3</td>\n",
       "      <td>Hispanic_or_Latino</td>\n",
       "      <td>All Workers</td>\n",
       "    </tr>\n",
       "    <tr>\n",
       "      <th>12338</th>\n",
       "      <td>eBay</td>\n",
       "      <td>38.4</td>\n",
       "      <td>Female_total</td>\n",
       "      <td>Managers</td>\n",
       "    </tr>\n",
       "    <tr>\n",
       "      <th>6923</th>\n",
       "      <td>eBay</td>\n",
       "      <td>2.8</td>\n",
       "      <td>Hispanic_or_Latino</td>\n",
       "      <td>Executives-Managers-Professionals</td>\n",
       "    </tr>\n",
       "    <tr>\n",
       "      <th>7586</th>\n",
       "      <td>eBay</td>\n",
       "      <td>49.5</td>\n",
       "      <td>Asian</td>\n",
       "      <td>Executives-Managers-Professionals</td>\n",
       "    </tr>\n",
       "    <tr>\n",
       "      <th>10060</th>\n",
       "      <td>eBay</td>\n",
       "      <td>38.1</td>\n",
       "      <td>Female_total</td>\n",
       "      <td>Executives and Managers</td>\n",
       "    </tr>\n",
       "    <tr>\n",
       "      <th>14240</th>\n",
       "      <td>eBay</td>\n",
       "      <td>5.3</td>\n",
       "      <td>Black_or_African_American</td>\n",
       "      <td>Sales workers/admin support/technicians and ot...</td>\n",
       "    </tr>\n",
       "    <tr>\n",
       "      <th>6315</th>\n",
       "      <td>eBay</td>\n",
       "      <td>16.3</td>\n",
       "      <td>Women_of_color</td>\n",
       "      <td>All Workers</td>\n",
       "    </tr>\n",
       "    <tr>\n",
       "      <th>9661</th>\n",
       "      <td>eBay</td>\n",
       "      <td>2.0</td>\n",
       "      <td>Black_or_African_American</td>\n",
       "      <td>Executives and Managers</td>\n",
       "    </tr>\n",
       "    <tr>\n",
       "      <th>11558</th>\n",
       "      <td>eBay</td>\n",
       "      <td>3.4</td>\n",
       "      <td>Hispanic_or_Latino</td>\n",
       "      <td>Managers</td>\n",
       "    </tr>\n",
       "    <tr>\n",
       "      <th>6758</th>\n",
       "      <td>eBay</td>\n",
       "      <td>7.9</td>\n",
       "      <td>Underrepresented_minorities</td>\n",
       "      <td>All Workers</td>\n",
       "    </tr>\n",
       "    <tr>\n",
       "      <th>5794</th>\n",
       "      <td>eBay</td>\n",
       "      <td>12.5</td>\n",
       "      <td>Asian_female</td>\n",
       "      <td>All Workers</td>\n",
       "    </tr>\n",
       "    <tr>\n",
       "      <th>12691</th>\n",
       "      <td>eBay</td>\n",
       "      <td>12.0</td>\n",
       "      <td>Asian_female</td>\n",
       "      <td>Managers</td>\n",
       "    </tr>\n",
       "    <tr>\n",
       "      <th>14865</th>\n",
       "      <td>eBay</td>\n",
       "      <td>3.0</td>\n",
       "      <td>Asian_female</td>\n",
       "      <td>Sales workers/admin support/technicians and ot...</td>\n",
       "    </tr>\n",
       "    <tr>\n",
       "      <th>5267</th>\n",
       "      <td>eBay</td>\n",
       "      <td>39.4</td>\n",
       "      <td>Asian</td>\n",
       "      <td>All Workers</td>\n",
       "    </tr>\n",
       "    <tr>\n",
       "      <th>9435</th>\n",
       "      <td>eBay</td>\n",
       "      <td>61.6</td>\n",
       "      <td>White</td>\n",
       "      <td>Executives and Managers</td>\n",
       "    </tr>\n",
       "    <tr>\n",
       "      <th>12513</th>\n",
       "      <td>eBay</td>\n",
       "      <td>23.4</td>\n",
       "      <td>White_female</td>\n",
       "      <td>Managers</td>\n",
       "    </tr>\n",
       "    <tr>\n",
       "      <th>14794</th>\n",
       "      <td>eBay</td>\n",
       "      <td>36.2</td>\n",
       "      <td>White_female</td>\n",
       "      <td>Sales workers/admin support/technicians and ot...</td>\n",
       "    </tr>\n",
       "    <tr>\n",
       "      <th>14080</th>\n",
       "      <td>eBay</td>\n",
       "      <td>76.5</td>\n",
       "      <td>White</td>\n",
       "      <td>Sales workers/admin support/technicians and ot...</td>\n",
       "    </tr>\n",
       "    <tr>\n",
       "      <th>3165</th>\n",
       "      <td>eBay</td>\n",
       "      <td>31.4</td>\n",
       "      <td>Female_total</td>\n",
       "      <td>Executives</td>\n",
       "    </tr>\n",
       "    <tr>\n",
       "      <th>15624</th>\n",
       "      <td>eBay</td>\n",
       "      <td>8.7</td>\n",
       "      <td>Underrepresented_minorities_female</td>\n",
       "      <td>Sales workers/admin support/technicians and ot...</td>\n",
       "    </tr>\n",
       "  </tbody>\n",
       "</table>\n",
       "<p>16042 rows × 4 columns</p>\n",
       "</div>"
      ],
      "text/plain": [
       "       company  percentage                        demographics  \\\n",
       "7319   23andMe         1.6           Black_or_African_American   \n",
       "13888  23andMe        10.9                  Hispanic_or_Latino   \n",
       "8254   23andMe         0.8    Black_or_African_American_female   \n",
       "4707   23andMe         6.4                  Hispanic_or_Latino   \n",
       "4071   23andMe         0.0  Underrepresented_minorities_female   \n",
       "12529  23andMe        27.7                        White_female   \n",
       "468    23andMe         2.4           Black_or_African_American   \n",
       "14970  23andMe        15.2                        Asian_female   \n",
       "14644  23andMe        89.1                        Female_total   \n",
       "8883   23andMe        35.5                     People_of_color   \n",
       "4004   23andMe         5.9                      Women_of_color   \n",
       "11168  23andMe        22.0                     People_of_color   \n",
       "10258  23andMe        30.5                        White_female   \n",
       "2644   23andMe        94.1                               White   \n",
       "2655   23andMe         0.0           Black_or_African_American   \n",
       "8632   23andMe        18.3                      Women_of_color   \n",
       "6600   23andMe        37.4                     People_of_color   \n",
       "11138  23andMe         6.1  Underrepresented_minorities_female   \n",
       "1183   23andMe        14.8                        Asian_female   \n",
       "12655  23andMe         9.2                        Asian_female   \n",
       "13688  23andMe         9.2         Underrepresented_minorities   \n",
       "14421  23andMe        21.7                               Asian   \n",
       "575    23andMe        28.4                               Asian   \n",
       "6530   23andMe         8.8  Underrepresented_minorities_female   \n",
       "10372  23andMe         8.5                        Asian_female   \n",
       "12730  23andMe         0.0    Black_or_African_American_female   \n",
       "1909   23andMe         5.3  Underrepresented_minorities_female   \n",
       "15511  23andMe        41.3                      Women_of_color   \n",
       "15687  23andMe        26.1  Underrepresented_minorities_female   \n",
       "8821   23andMe         5.6  Underrepresented_minorities_female   \n",
       "...        ...         ...                                 ...   \n",
       "1210      eBay        17.3                        Asian_female   \n",
       "12854     eBay         1.0    Black_or_African_American_female   \n",
       "8118      eBay        15.5                        Asian_female   \n",
       "11272     eBay        38.4                     People_of_color   \n",
       "10576     eBay         1.0    Black_or_African_American_female   \n",
       "12159     eBay        32.3                               Asian   \n",
       "5942      eBay         1.0    Black_or_African_American_female   \n",
       "15129     eBay         2.7    Black_or_African_American_female   \n",
       "10228     eBay        23.4                        White_female   \n",
       "8629      eBay        17.7                      Women_of_color   \n",
       "4656      eBay         4.3                  Hispanic_or_Latino   \n",
       "12338     eBay        38.4                        Female_total   \n",
       "6923      eBay         2.8                  Hispanic_or_Latino   \n",
       "7586      eBay        49.5                               Asian   \n",
       "10060     eBay        38.1                        Female_total   \n",
       "14240     eBay         5.3           Black_or_African_American   \n",
       "6315      eBay        16.3                      Women_of_color   \n",
       "9661      eBay         2.0           Black_or_African_American   \n",
       "11558     eBay         3.4                  Hispanic_or_Latino   \n",
       "6758      eBay         7.9         Underrepresented_minorities   \n",
       "5794      eBay        12.5                        Asian_female   \n",
       "12691     eBay        12.0                        Asian_female   \n",
       "14865     eBay         3.0                        Asian_female   \n",
       "5267      eBay        39.4                               Asian   \n",
       "9435      eBay        61.6                               White   \n",
       "12513     eBay        23.4                        White_female   \n",
       "14794     eBay        36.2                        White_female   \n",
       "14080     eBay        76.5                               White   \n",
       "3165      eBay        31.4                        Female_total   \n",
       "15624     eBay         8.7  Underrepresented_minorities_female   \n",
       "\n",
       "                                            job_category  \n",
       "7319                   Executives-Managers-Professionals  \n",
       "13888  Sales workers/admin support/technicians and ot...  \n",
       "8254                   Executives-Managers-Professionals  \n",
       "4707                                         All Workers  \n",
       "4071                                          Executives  \n",
       "12529                                           Managers  \n",
       "468                                        Professionals  \n",
       "14970  Sales workers/admin support/technicians and ot...  \n",
       "14644  Sales workers/admin support/technicians and ot...  \n",
       "8883                   Executives-Managers-Professionals  \n",
       "4004                                          Executives  \n",
       "11168                            Executives and Managers  \n",
       "10258                            Executives and Managers  \n",
       "2644                                          Executives  \n",
       "2655                                          Executives  \n",
       "8632                   Executives-Managers-Professionals  \n",
       "6600                                         All Workers  \n",
       "11138                            Executives and Managers  \n",
       "1183                                       Professionals  \n",
       "12655                                           Managers  \n",
       "13688                                           Managers  \n",
       "14421  Sales workers/admin support/technicians and ot...  \n",
       "575                                        Professionals  \n",
       "6530                                         All Workers  \n",
       "10372                            Executives and Managers  \n",
       "12730                                           Managers  \n",
       "1909                                       Professionals  \n",
       "15511  Sales workers/admin support/technicians and ot...  \n",
       "15687  Sales workers/admin support/technicians and ot...  \n",
       "8821                   Executives-Managers-Professionals  \n",
       "...                                                  ...  \n",
       "1210                                       Professionals  \n",
       "12854                                           Managers  \n",
       "8118                   Executives-Managers-Professionals  \n",
       "11272                            Executives and Managers  \n",
       "10576                            Executives and Managers  \n",
       "12159                                           Managers  \n",
       "5942                                         All Workers  \n",
       "15129  Sales workers/admin support/technicians and ot...  \n",
       "10228                            Executives and Managers  \n",
       "8629                   Executives-Managers-Professionals  \n",
       "4656                                         All Workers  \n",
       "12338                                           Managers  \n",
       "6923                   Executives-Managers-Professionals  \n",
       "7586                   Executives-Managers-Professionals  \n",
       "10060                            Executives and Managers  \n",
       "14240  Sales workers/admin support/technicians and ot...  \n",
       "6315                                         All Workers  \n",
       "9661                             Executives and Managers  \n",
       "11558                                           Managers  \n",
       "6758                                         All Workers  \n",
       "5794                                         All Workers  \n",
       "12691                                           Managers  \n",
       "14865  Sales workers/admin support/technicians and ot...  \n",
       "5267                                         All Workers  \n",
       "9435                             Executives and Managers  \n",
       "12513                                           Managers  \n",
       "14794  Sales workers/admin support/technicians and ot...  \n",
       "14080  Sales workers/admin support/technicians and ot...  \n",
       "3165                                          Executives  \n",
       "15624  Sales workers/admin support/technicians and ot...  \n",
       "\n",
       "[16042 rows x 4 columns]"
      ]
     },
     "execution_count": 13,
     "metadata": {},
     "output_type": "execute_result"
    }
   ],
   "source": [
    "# Sort values by company\n",
    "dist_df.sort_values('company')"
   ]
  },
  {
   "cell_type": "code",
   "execution_count": 14,
   "metadata": {},
   "outputs": [],
   "source": [
    "# Create df for Apple entries only\n",
    "appledf=dist_df[(dist_df['company']=='Apple')]"
   ]
  },
  {
   "cell_type": "code",
   "execution_count": 15,
   "metadata": {},
   "outputs": [
    {
     "data": {
      "text/html": [
       "<div>\n",
       "<style scoped>\n",
       "    .dataframe tbody tr th:only-of-type {\n",
       "        vertical-align: middle;\n",
       "    }\n",
       "\n",
       "    .dataframe tbody tr th {\n",
       "        vertical-align: top;\n",
       "    }\n",
       "\n",
       "    .dataframe thead th {\n",
       "        text-align: right;\n",
       "    }\n",
       "</style>\n",
       "<table border=\"1\" class=\"dataframe\">\n",
       "  <thead>\n",
       "    <tr style=\"text-align: right;\">\n",
       "      <th></th>\n",
       "      <th>company</th>\n",
       "      <th>percentage</th>\n",
       "      <th>demographics</th>\n",
       "      <th>job_category</th>\n",
       "    </tr>\n",
       "  </thead>\n",
       "  <tbody>\n",
       "    <tr>\n",
       "      <th>104</th>\n",
       "      <td>Apple</td>\n",
       "      <td>5.1</td>\n",
       "      <td>Hispanic_or_Latino</td>\n",
       "      <td>Professionals</td>\n",
       "    </tr>\n",
       "    <tr>\n",
       "      <th>257</th>\n",
       "      <td>Apple</td>\n",
       "      <td>50.2</td>\n",
       "      <td>White</td>\n",
       "      <td>Professionals</td>\n",
       "    </tr>\n",
       "    <tr>\n",
       "      <th>422</th>\n",
       "      <td>Apple</td>\n",
       "      <td>1.7</td>\n",
       "      <td>Black_or_African_American</td>\n",
       "      <td>Professionals</td>\n",
       "    </tr>\n",
       "    <tr>\n",
       "      <th>639</th>\n",
       "      <td>Apple</td>\n",
       "      <td>41.5</td>\n",
       "      <td>Asian</td>\n",
       "      <td>Professionals</td>\n",
       "    </tr>\n",
       "    <tr>\n",
       "      <th>770</th>\n",
       "      <td>Apple</td>\n",
       "      <td>25.5</td>\n",
       "      <td>Female_total</td>\n",
       "      <td>Professionals</td>\n",
       "    </tr>\n",
       "  </tbody>\n",
       "</table>\n",
       "</div>"
      ],
      "text/plain": [
       "    company  percentage               demographics   job_category\n",
       "104   Apple         5.1         Hispanic_or_Latino  Professionals\n",
       "257   Apple        50.2                      White  Professionals\n",
       "422   Apple         1.7  Black_or_African_American  Professionals\n",
       "639   Apple        41.5                      Asian  Professionals\n",
       "770   Apple        25.5               Female_total  Professionals"
      ]
     },
     "execution_count": 15,
     "metadata": {},
     "output_type": "execute_result"
    }
   ],
   "source": [
    "# Inspect Apple dataframe\n",
    "appledf.head()"
   ]
  },
  {
   "cell_type": "code",
   "execution_count": 16,
   "metadata": {},
   "outputs": [],
   "source": [
    "# Singling out the professional job category in Apple df\n",
    "apple_professionals_df = appledf[appledf['job_category']=='Professionals']"
   ]
  },
  {
   "cell_type": "code",
   "execution_count": 17,
   "metadata": {},
   "outputs": [
    {
     "data": {
      "text/html": [
       "<div>\n",
       "<style scoped>\n",
       "    .dataframe tbody tr th:only-of-type {\n",
       "        vertical-align: middle;\n",
       "    }\n",
       "\n",
       "    .dataframe tbody tr th {\n",
       "        vertical-align: top;\n",
       "    }\n",
       "\n",
       "    .dataframe thead th {\n",
       "        text-align: right;\n",
       "    }\n",
       "</style>\n",
       "<table border=\"1\" class=\"dataframe\">\n",
       "  <thead>\n",
       "    <tr style=\"text-align: right;\">\n",
       "      <th></th>\n",
       "      <th>company</th>\n",
       "      <th>percentage</th>\n",
       "      <th>demographics</th>\n",
       "      <th>job_category</th>\n",
       "    </tr>\n",
       "  </thead>\n",
       "  <tbody>\n",
       "    <tr>\n",
       "      <th>104</th>\n",
       "      <td>Apple</td>\n",
       "      <td>5.1</td>\n",
       "      <td>Hispanic_or_Latino</td>\n",
       "      <td>Professionals</td>\n",
       "    </tr>\n",
       "    <tr>\n",
       "      <th>257</th>\n",
       "      <td>Apple</td>\n",
       "      <td>50.2</td>\n",
       "      <td>White</td>\n",
       "      <td>Professionals</td>\n",
       "    </tr>\n",
       "    <tr>\n",
       "      <th>422</th>\n",
       "      <td>Apple</td>\n",
       "      <td>1.7</td>\n",
       "      <td>Black_or_African_American</td>\n",
       "      <td>Professionals</td>\n",
       "    </tr>\n",
       "    <tr>\n",
       "      <th>639</th>\n",
       "      <td>Apple</td>\n",
       "      <td>41.5</td>\n",
       "      <td>Asian</td>\n",
       "      <td>Professionals</td>\n",
       "    </tr>\n",
       "    <tr>\n",
       "      <th>770</th>\n",
       "      <td>Apple</td>\n",
       "      <td>25.5</td>\n",
       "      <td>Female_total</td>\n",
       "      <td>Professionals</td>\n",
       "    </tr>\n",
       "    <tr>\n",
       "      <th>953</th>\n",
       "      <td>Apple</td>\n",
       "      <td>11.4</td>\n",
       "      <td>White_female</td>\n",
       "      <td>Professionals</td>\n",
       "    </tr>\n",
       "    <tr>\n",
       "      <th>1138</th>\n",
       "      <td>Apple</td>\n",
       "      <td>11.4</td>\n",
       "      <td>Asian_female</td>\n",
       "      <td>Professionals</td>\n",
       "    </tr>\n",
       "    <tr>\n",
       "      <th>1316</th>\n",
       "      <td>Apple</td>\n",
       "      <td>0.5</td>\n",
       "      <td>Black_or_African_American_female</td>\n",
       "      <td>Professionals</td>\n",
       "    </tr>\n",
       "    <tr>\n",
       "      <th>1511</th>\n",
       "      <td>Apple</td>\n",
       "      <td>1.6</td>\n",
       "      <td>Hispanic_or_Latino_female</td>\n",
       "      <td>Professionals</td>\n",
       "    </tr>\n",
       "    <tr>\n",
       "      <th>1658</th>\n",
       "      <td>Apple</td>\n",
       "      <td>14.1</td>\n",
       "      <td>Women_of_color</td>\n",
       "      <td>Professionals</td>\n",
       "    </tr>\n",
       "    <tr>\n",
       "      <th>1838</th>\n",
       "      <td>Apple</td>\n",
       "      <td>2.7</td>\n",
       "      <td>Underrepresented_minorities_female</td>\n",
       "      <td>Professionals</td>\n",
       "    </tr>\n",
       "    <tr>\n",
       "      <th>2043</th>\n",
       "      <td>Apple</td>\n",
       "      <td>49.8</td>\n",
       "      <td>People_of_color</td>\n",
       "      <td>Professionals</td>\n",
       "    </tr>\n",
       "    <tr>\n",
       "      <th>2186</th>\n",
       "      <td>Apple</td>\n",
       "      <td>8.3</td>\n",
       "      <td>Underrepresented_minorities</td>\n",
       "      <td>Professionals</td>\n",
       "    </tr>\n",
       "  </tbody>\n",
       "</table>\n",
       "</div>"
      ],
      "text/plain": [
       "     company  percentage                        demographics   job_category\n",
       "104    Apple         5.1                  Hispanic_or_Latino  Professionals\n",
       "257    Apple        50.2                               White  Professionals\n",
       "422    Apple         1.7           Black_or_African_American  Professionals\n",
       "639    Apple        41.5                               Asian  Professionals\n",
       "770    Apple        25.5                        Female_total  Professionals\n",
       "953    Apple        11.4                        White_female  Professionals\n",
       "1138   Apple        11.4                        Asian_female  Professionals\n",
       "1316   Apple         0.5    Black_or_African_American_female  Professionals\n",
       "1511   Apple         1.6           Hispanic_or_Latino_female  Professionals\n",
       "1658   Apple        14.1                      Women_of_color  Professionals\n",
       "1838   Apple         2.7  Underrepresented_minorities_female  Professionals\n",
       "2043   Apple        49.8                     People_of_color  Professionals\n",
       "2186   Apple         8.3         Underrepresented_minorities  Professionals"
      ]
     },
     "execution_count": 17,
     "metadata": {},
     "output_type": "execute_result"
    }
   ],
   "source": [
    "# Inspecting Apple Professionals df\n",
    "apple_professionals_df.head(13)"
   ]
  },
  {
   "cell_type": "code",
   "execution_count": 18,
   "metadata": {},
   "outputs": [
    {
     "data": {
      "text/plain": [
       "job_category\n",
       "All Workers                                           31.826554\n",
       "Executives                                            19.292090\n",
       "Executives and Managers                               28.077401\n",
       "Executives-Managers-Professionals                     29.830508\n",
       "Managers                                              30.371429\n",
       "Professionals                                         31.001130\n",
       "Sales workers/admin support/technicians and others    40.620115\n",
       "Name: percentage, dtype: float64"
      ]
     },
     "execution_count": 18,
     "metadata": {},
     "output_type": "execute_result"
    }
   ],
   "source": [
    "# Looking at average percentages of female workers in various job categories\n",
    "distfem_df.groupby('job_category')['percentage'].mean()"
   ]
  },
  {
   "cell_type": "code",
   "execution_count": 19,
   "metadata": {},
   "outputs": [
    {
     "data": {
      "text/plain": [
       "company\n",
       "23andMe       51.585714\n",
       "Adobe         30.800000\n",
       "Airbnb        41.742857\n",
       "Apple         27.085714\n",
       "Cisco         25.042857\n",
       "Facebook      33.314286\n",
       "Google        31.214286\n",
       "HP Inc.       29.514286\n",
       "HPE           29.928571\n",
       "Intel         23.185714\n",
       "Intuit        40.928571\n",
       "LinkedIn      39.585714\n",
       "Lyft          37.671429\n",
       "MobileIron    26.000000\n",
       "NetApp        23.971429\n",
       "Nvidia        19.285714\n",
       "PayPal        38.971429\n",
       "Pinterest     39.542857\n",
       "Salesforce    30.628571\n",
       "Sanmina       29.900000\n",
       "Square        34.400000\n",
       "Twitter       36.228571\n",
       "Uber          30.100000\n",
       "View          15.185714\n",
       "anonymous     29.795940\n",
       "eBay          36.171429\n",
       "Name: percentage, dtype: float64"
      ]
     },
     "execution_count": 19,
     "metadata": {},
     "output_type": "execute_result"
    }
   ],
   "source": [
    "# Looking at average percentages of female workers in various companies\n",
    "distfem_df.groupby('company')['percentage'].mean()"
   ]
  },
  {
   "cell_type": "code",
   "execution_count": 20,
   "metadata": {},
   "outputs": [
    {
     "data": {
      "text/html": [
       "<div>\n",
       "<style scoped>\n",
       "    .dataframe tbody tr th:only-of-type {\n",
       "        vertical-align: middle;\n",
       "    }\n",
       "\n",
       "    .dataframe tbody tr th {\n",
       "        vertical-align: top;\n",
       "    }\n",
       "\n",
       "    .dataframe thead th {\n",
       "        text-align: right;\n",
       "    }\n",
       "</style>\n",
       "<table border=\"1\" class=\"dataframe\">\n",
       "  <thead>\n",
       "    <tr style=\"text-align: right;\">\n",
       "      <th></th>\n",
       "      <th>mean</th>\n",
       "      <th>min</th>\n",
       "      <th>max</th>\n",
       "    </tr>\n",
       "    <tr>\n",
       "      <th>company</th>\n",
       "      <th></th>\n",
       "      <th></th>\n",
       "      <th></th>\n",
       "    </tr>\n",
       "  </thead>\n",
       "  <tbody>\n",
       "    <tr>\n",
       "      <th>23andMe</th>\n",
       "      <td>51.585714</td>\n",
       "      <td>42.0</td>\n",
       "      <td>89.1</td>\n",
       "    </tr>\n",
       "    <tr>\n",
       "      <th>Adobe</th>\n",
       "      <td>30.800000</td>\n",
       "      <td>19.4</td>\n",
       "      <td>34.7</td>\n",
       "    </tr>\n",
       "    <tr>\n",
       "      <th>Airbnb</th>\n",
       "      <td>41.742857</td>\n",
       "      <td>29.9</td>\n",
       "      <td>55.9</td>\n",
       "    </tr>\n",
       "    <tr>\n",
       "      <th>Apple</th>\n",
       "      <td>27.085714</td>\n",
       "      <td>18.7</td>\n",
       "      <td>34.1</td>\n",
       "    </tr>\n",
       "    <tr>\n",
       "      <th>Cisco</th>\n",
       "      <td>25.042857</td>\n",
       "      <td>20.5</td>\n",
       "      <td>31.7</td>\n",
       "    </tr>\n",
       "    <tr>\n",
       "      <th>Facebook</th>\n",
       "      <td>33.314286</td>\n",
       "      <td>28.0</td>\n",
       "      <td>53.5</td>\n",
       "    </tr>\n",
       "    <tr>\n",
       "      <th>Google</th>\n",
       "      <td>31.214286</td>\n",
       "      <td>12.9</td>\n",
       "      <td>51.7</td>\n",
       "    </tr>\n",
       "    <tr>\n",
       "      <th>HP Inc.</th>\n",
       "      <td>29.514286</td>\n",
       "      <td>24.8</td>\n",
       "      <td>33.5</td>\n",
       "    </tr>\n",
       "    <tr>\n",
       "      <th>HPE</th>\n",
       "      <td>29.928571</td>\n",
       "      <td>17.2</td>\n",
       "      <td>35.9</td>\n",
       "    </tr>\n",
       "    <tr>\n",
       "      <th>Intel</th>\n",
       "      <td>23.185714</td>\n",
       "      <td>13.2</td>\n",
       "      <td>27.3</td>\n",
       "    </tr>\n",
       "    <tr>\n",
       "      <th>Intuit</th>\n",
       "      <td>40.928571</td>\n",
       "      <td>29.1</td>\n",
       "      <td>55.4</td>\n",
       "    </tr>\n",
       "    <tr>\n",
       "      <th>LinkedIn</th>\n",
       "      <td>39.585714</td>\n",
       "      <td>36.7</td>\n",
       "      <td>52.2</td>\n",
       "    </tr>\n",
       "    <tr>\n",
       "      <th>Lyft</th>\n",
       "      <td>37.671429</td>\n",
       "      <td>20.0</td>\n",
       "      <td>53.2</td>\n",
       "    </tr>\n",
       "    <tr>\n",
       "      <th>MobileIron</th>\n",
       "      <td>26.000000</td>\n",
       "      <td>20.0</td>\n",
       "      <td>37.0</td>\n",
       "    </tr>\n",
       "    <tr>\n",
       "      <th>NetApp</th>\n",
       "      <td>23.971429</td>\n",
       "      <td>15.9</td>\n",
       "      <td>26.3</td>\n",
       "    </tr>\n",
       "    <tr>\n",
       "      <th>Nvidia</th>\n",
       "      <td>19.285714</td>\n",
       "      <td>11.5</td>\n",
       "      <td>36.6</td>\n",
       "    </tr>\n",
       "    <tr>\n",
       "      <th>PayPal</th>\n",
       "      <td>38.971429</td>\n",
       "      <td>24.2</td>\n",
       "      <td>55.6</td>\n",
       "    </tr>\n",
       "    <tr>\n",
       "      <th>Pinterest</th>\n",
       "      <td>39.542857</td>\n",
       "      <td>12.5</td>\n",
       "      <td>59.8</td>\n",
       "    </tr>\n",
       "    <tr>\n",
       "      <th>Salesforce</th>\n",
       "      <td>30.628571</td>\n",
       "      <td>24.5</td>\n",
       "      <td>32.9</td>\n",
       "    </tr>\n",
       "    <tr>\n",
       "      <th>Sanmina</th>\n",
       "      <td>29.900000</td>\n",
       "      <td>8.2</td>\n",
       "      <td>43.7</td>\n",
       "    </tr>\n",
       "    <tr>\n",
       "      <th>Square</th>\n",
       "      <td>34.400000</td>\n",
       "      <td>29.8</td>\n",
       "      <td>44.6</td>\n",
       "    </tr>\n",
       "    <tr>\n",
       "      <th>Twitter</th>\n",
       "      <td>36.228571</td>\n",
       "      <td>27.7</td>\n",
       "      <td>58.7</td>\n",
       "    </tr>\n",
       "    <tr>\n",
       "      <th>Uber</th>\n",
       "      <td>30.100000</td>\n",
       "      <td>26.8</td>\n",
       "      <td>46.0</td>\n",
       "    </tr>\n",
       "    <tr>\n",
       "      <th>View</th>\n",
       "      <td>15.185714</td>\n",
       "      <td>8.8</td>\n",
       "      <td>22.5</td>\n",
       "    </tr>\n",
       "    <tr>\n",
       "      <th>anonymous</th>\n",
       "      <td>29.795940</td>\n",
       "      <td>0.0</td>\n",
       "      <td>100.0</td>\n",
       "    </tr>\n",
       "    <tr>\n",
       "      <th>eBay</th>\n",
       "      <td>36.171429</td>\n",
       "      <td>29.3</td>\n",
       "      <td>47.9</td>\n",
       "    </tr>\n",
       "  </tbody>\n",
       "</table>\n",
       "</div>"
      ],
      "text/plain": [
       "                 mean   min    max\n",
       "company                           \n",
       "23andMe     51.585714  42.0   89.1\n",
       "Adobe       30.800000  19.4   34.7\n",
       "Airbnb      41.742857  29.9   55.9\n",
       "Apple       27.085714  18.7   34.1\n",
       "Cisco       25.042857  20.5   31.7\n",
       "Facebook    33.314286  28.0   53.5\n",
       "Google      31.214286  12.9   51.7\n",
       "HP Inc.     29.514286  24.8   33.5\n",
       "HPE         29.928571  17.2   35.9\n",
       "Intel       23.185714  13.2   27.3\n",
       "Intuit      40.928571  29.1   55.4\n",
       "LinkedIn    39.585714  36.7   52.2\n",
       "Lyft        37.671429  20.0   53.2\n",
       "MobileIron  26.000000  20.0   37.0\n",
       "NetApp      23.971429  15.9   26.3\n",
       "Nvidia      19.285714  11.5   36.6\n",
       "PayPal      38.971429  24.2   55.6\n",
       "Pinterest   39.542857  12.5   59.8\n",
       "Salesforce  30.628571  24.5   32.9\n",
       "Sanmina     29.900000   8.2   43.7\n",
       "Square      34.400000  29.8   44.6\n",
       "Twitter     36.228571  27.7   58.7\n",
       "Uber        30.100000  26.8   46.0\n",
       "View        15.185714   8.8   22.5\n",
       "anonymous   29.795940   0.0  100.0\n",
       "eBay        36.171429  29.3   47.9"
      ]
     },
     "execution_count": 20,
     "metadata": {},
     "output_type": "execute_result"
    }
   ],
   "source": [
    "# Showing mean, min and max percentages of female workers in various companies\n",
    "distfem_df.groupby('company')['percentage'].agg(['mean','min','max'])"
   ]
  },
  {
   "cell_type": "code",
   "execution_count": 21,
   "metadata": {},
   "outputs": [],
   "source": [
    "# Adding ranges between max and min percentages as a separate column\n",
    "distfem_summary=distfem_df.groupby('company')['percentage'].agg(['mean','min','max'])\n",
    "distfem_summary['ci']=distfem_summary['max']-distfem_summary['min']"
   ]
  },
  {
   "cell_type": "code",
   "execution_count": 22,
   "metadata": {},
   "outputs": [
    {
     "data": {
      "text/html": [
       "<div>\n",
       "<style scoped>\n",
       "    .dataframe tbody tr th:only-of-type {\n",
       "        vertical-align: middle;\n",
       "    }\n",
       "\n",
       "    .dataframe tbody tr th {\n",
       "        vertical-align: top;\n",
       "    }\n",
       "\n",
       "    .dataframe thead th {\n",
       "        text-align: right;\n",
       "    }\n",
       "</style>\n",
       "<table border=\"1\" class=\"dataframe\">\n",
       "  <thead>\n",
       "    <tr style=\"text-align: right;\">\n",
       "      <th></th>\n",
       "      <th>mean</th>\n",
       "      <th>min</th>\n",
       "      <th>max</th>\n",
       "      <th>ci</th>\n",
       "    </tr>\n",
       "    <tr>\n",
       "      <th>company</th>\n",
       "      <th></th>\n",
       "      <th></th>\n",
       "      <th></th>\n",
       "      <th></th>\n",
       "    </tr>\n",
       "  </thead>\n",
       "  <tbody>\n",
       "    <tr>\n",
       "      <th>23andMe</th>\n",
       "      <td>51.585714</td>\n",
       "      <td>42.0</td>\n",
       "      <td>89.1</td>\n",
       "      <td>47.1</td>\n",
       "    </tr>\n",
       "    <tr>\n",
       "      <th>Adobe</th>\n",
       "      <td>30.800000</td>\n",
       "      <td>19.4</td>\n",
       "      <td>34.7</td>\n",
       "      <td>15.3</td>\n",
       "    </tr>\n",
       "    <tr>\n",
       "      <th>Airbnb</th>\n",
       "      <td>41.742857</td>\n",
       "      <td>29.9</td>\n",
       "      <td>55.9</td>\n",
       "      <td>26.0</td>\n",
       "    </tr>\n",
       "    <tr>\n",
       "      <th>Apple</th>\n",
       "      <td>27.085714</td>\n",
       "      <td>18.7</td>\n",
       "      <td>34.1</td>\n",
       "      <td>15.4</td>\n",
       "    </tr>\n",
       "    <tr>\n",
       "      <th>Cisco</th>\n",
       "      <td>25.042857</td>\n",
       "      <td>20.5</td>\n",
       "      <td>31.7</td>\n",
       "      <td>11.2</td>\n",
       "    </tr>\n",
       "    <tr>\n",
       "      <th>Facebook</th>\n",
       "      <td>33.314286</td>\n",
       "      <td>28.0</td>\n",
       "      <td>53.5</td>\n",
       "      <td>25.5</td>\n",
       "    </tr>\n",
       "    <tr>\n",
       "      <th>Google</th>\n",
       "      <td>31.214286</td>\n",
       "      <td>12.9</td>\n",
       "      <td>51.7</td>\n",
       "      <td>38.8</td>\n",
       "    </tr>\n",
       "    <tr>\n",
       "      <th>HP Inc.</th>\n",
       "      <td>29.514286</td>\n",
       "      <td>24.8</td>\n",
       "      <td>33.5</td>\n",
       "      <td>8.7</td>\n",
       "    </tr>\n",
       "    <tr>\n",
       "      <th>HPE</th>\n",
       "      <td>29.928571</td>\n",
       "      <td>17.2</td>\n",
       "      <td>35.9</td>\n",
       "      <td>18.7</td>\n",
       "    </tr>\n",
       "    <tr>\n",
       "      <th>Intel</th>\n",
       "      <td>23.185714</td>\n",
       "      <td>13.2</td>\n",
       "      <td>27.3</td>\n",
       "      <td>14.1</td>\n",
       "    </tr>\n",
       "    <tr>\n",
       "      <th>Intuit</th>\n",
       "      <td>40.928571</td>\n",
       "      <td>29.1</td>\n",
       "      <td>55.4</td>\n",
       "      <td>26.3</td>\n",
       "    </tr>\n",
       "    <tr>\n",
       "      <th>LinkedIn</th>\n",
       "      <td>39.585714</td>\n",
       "      <td>36.7</td>\n",
       "      <td>52.2</td>\n",
       "      <td>15.5</td>\n",
       "    </tr>\n",
       "    <tr>\n",
       "      <th>Lyft</th>\n",
       "      <td>37.671429</td>\n",
       "      <td>20.0</td>\n",
       "      <td>53.2</td>\n",
       "      <td>33.2</td>\n",
       "    </tr>\n",
       "    <tr>\n",
       "      <th>MobileIron</th>\n",
       "      <td>26.000000</td>\n",
       "      <td>20.0</td>\n",
       "      <td>37.0</td>\n",
       "      <td>17.0</td>\n",
       "    </tr>\n",
       "    <tr>\n",
       "      <th>NetApp</th>\n",
       "      <td>23.971429</td>\n",
       "      <td>15.9</td>\n",
       "      <td>26.3</td>\n",
       "      <td>10.4</td>\n",
       "    </tr>\n",
       "    <tr>\n",
       "      <th>Nvidia</th>\n",
       "      <td>19.285714</td>\n",
       "      <td>11.5</td>\n",
       "      <td>36.6</td>\n",
       "      <td>25.1</td>\n",
       "    </tr>\n",
       "    <tr>\n",
       "      <th>PayPal</th>\n",
       "      <td>38.971429</td>\n",
       "      <td>24.2</td>\n",
       "      <td>55.6</td>\n",
       "      <td>31.4</td>\n",
       "    </tr>\n",
       "    <tr>\n",
       "      <th>Pinterest</th>\n",
       "      <td>39.542857</td>\n",
       "      <td>12.5</td>\n",
       "      <td>59.8</td>\n",
       "      <td>47.3</td>\n",
       "    </tr>\n",
       "    <tr>\n",
       "      <th>Salesforce</th>\n",
       "      <td>30.628571</td>\n",
       "      <td>24.5</td>\n",
       "      <td>32.9</td>\n",
       "      <td>8.4</td>\n",
       "    </tr>\n",
       "    <tr>\n",
       "      <th>Sanmina</th>\n",
       "      <td>29.900000</td>\n",
       "      <td>8.2</td>\n",
       "      <td>43.7</td>\n",
       "      <td>35.5</td>\n",
       "    </tr>\n",
       "    <tr>\n",
       "      <th>Square</th>\n",
       "      <td>34.400000</td>\n",
       "      <td>29.8</td>\n",
       "      <td>44.6</td>\n",
       "      <td>14.8</td>\n",
       "    </tr>\n",
       "    <tr>\n",
       "      <th>Twitter</th>\n",
       "      <td>36.228571</td>\n",
       "      <td>27.7</td>\n",
       "      <td>58.7</td>\n",
       "      <td>31.0</td>\n",
       "    </tr>\n",
       "    <tr>\n",
       "      <th>Uber</th>\n",
       "      <td>30.100000</td>\n",
       "      <td>26.8</td>\n",
       "      <td>46.0</td>\n",
       "      <td>19.2</td>\n",
       "    </tr>\n",
       "    <tr>\n",
       "      <th>View</th>\n",
       "      <td>15.185714</td>\n",
       "      <td>8.8</td>\n",
       "      <td>22.5</td>\n",
       "      <td>13.7</td>\n",
       "    </tr>\n",
       "    <tr>\n",
       "      <th>anonymous</th>\n",
       "      <td>29.795940</td>\n",
       "      <td>0.0</td>\n",
       "      <td>100.0</td>\n",
       "      <td>100.0</td>\n",
       "    </tr>\n",
       "    <tr>\n",
       "      <th>eBay</th>\n",
       "      <td>36.171429</td>\n",
       "      <td>29.3</td>\n",
       "      <td>47.9</td>\n",
       "      <td>18.6</td>\n",
       "    </tr>\n",
       "  </tbody>\n",
       "</table>\n",
       "</div>"
      ],
      "text/plain": [
       "                 mean   min    max     ci\n",
       "company                                  \n",
       "23andMe     51.585714  42.0   89.1   47.1\n",
       "Adobe       30.800000  19.4   34.7   15.3\n",
       "Airbnb      41.742857  29.9   55.9   26.0\n",
       "Apple       27.085714  18.7   34.1   15.4\n",
       "Cisco       25.042857  20.5   31.7   11.2\n",
       "Facebook    33.314286  28.0   53.5   25.5\n",
       "Google      31.214286  12.9   51.7   38.8\n",
       "HP Inc.     29.514286  24.8   33.5    8.7\n",
       "HPE         29.928571  17.2   35.9   18.7\n",
       "Intel       23.185714  13.2   27.3   14.1\n",
       "Intuit      40.928571  29.1   55.4   26.3\n",
       "LinkedIn    39.585714  36.7   52.2   15.5\n",
       "Lyft        37.671429  20.0   53.2   33.2\n",
       "MobileIron  26.000000  20.0   37.0   17.0\n",
       "NetApp      23.971429  15.9   26.3   10.4\n",
       "Nvidia      19.285714  11.5   36.6   25.1\n",
       "PayPal      38.971429  24.2   55.6   31.4\n",
       "Pinterest   39.542857  12.5   59.8   47.3\n",
       "Salesforce  30.628571  24.5   32.9    8.4\n",
       "Sanmina     29.900000   8.2   43.7   35.5\n",
       "Square      34.400000  29.8   44.6   14.8\n",
       "Twitter     36.228571  27.7   58.7   31.0\n",
       "Uber        30.100000  26.8   46.0   19.2\n",
       "View        15.185714   8.8   22.5   13.7\n",
       "anonymous   29.795940   0.0  100.0  100.0\n",
       "eBay        36.171429  29.3   47.9   18.6"
      ]
     },
     "execution_count": 22,
     "metadata": {},
     "output_type": "execute_result"
    }
   ],
   "source": [
    "distfem_summary"
   ]
  },
  {
   "cell_type": "code",
   "execution_count": 23,
   "metadata": {},
   "outputs": [
    {
     "data": {
      "text/plain": [
       "<ErrorbarContainer object of 3 artists>"
      ]
     },
     "execution_count": 23,
     "metadata": {},
     "output_type": "execute_result"
    },
    {
     "data": {
      "image/png": "[encoded data removed]",
      "text/plain": [
       "<Figure size 432x288 with 1 Axes>"
      ]
     },
     "metadata": {
      "needs_background": "light"
     },
     "output_type": "display_data"
    }
   ],
   "source": [
    "# Creating bar chart with error bar out of above data\n",
    "distfem_summary['mean'].plot(kind='bar', color=['black', 'red', 'green', 'blue', 'cyan'])\n",
    "plt.errorbar(range(distfem_summary.shape[0]), \n",
    "             y=distfem_summary['mean'],\n",
    "             yerr=distfem_summary['ci'], \n",
    "             fmt=\"none\", c=\"gray\")"
   ]
  },
  {
   "cell_type": "code",
   "execution_count": 24,
   "metadata": {},
   "outputs": [
    {
     "data": {
      "text/html": [
       "<div>\n",
       "<style scoped>\n",
       "    .dataframe tbody tr th:only-of-type {\n",
       "        vertical-align: middle;\n",
       "    }\n",
       "\n",
       "    .dataframe tbody tr th {\n",
       "        vertical-align: top;\n",
       "    }\n",
       "\n",
       "    .dataframe thead th {\n",
       "        text-align: right;\n",
       "    }\n",
       "</style>\n",
       "<table border=\"1\" class=\"dataframe\">\n",
       "  <thead>\n",
       "    <tr style=\"text-align: right;\">\n",
       "      <th></th>\n",
       "      <th>company</th>\n",
       "      <th>percentage</th>\n",
       "      <th>demographics</th>\n",
       "      <th>job_category</th>\n",
       "    </tr>\n",
       "  </thead>\n",
       "  <tbody>\n",
       "    <tr>\n",
       "      <th>5311</th>\n",
       "      <td>View</td>\n",
       "      <td>17.0</td>\n",
       "      <td>Female_total</td>\n",
       "      <td>All Workers</td>\n",
       "    </tr>\n",
       "    <tr>\n",
       "      <th>5313</th>\n",
       "      <td>Nvidia</td>\n",
       "      <td>17.2</td>\n",
       "      <td>Female_total</td>\n",
       "      <td>All Workers</td>\n",
       "    </tr>\n",
       "    <tr>\n",
       "      <th>5354</th>\n",
       "      <td>NetApp</td>\n",
       "      <td>24.0</td>\n",
       "      <td>Female_total</td>\n",
       "      <td>All Workers</td>\n",
       "    </tr>\n",
       "    <tr>\n",
       "      <th>5373</th>\n",
       "      <td>Intel</td>\n",
       "      <td>26.0</td>\n",
       "      <td>Female_total</td>\n",
       "      <td>All Workers</td>\n",
       "    </tr>\n",
       "    <tr>\n",
       "      <th>5376</th>\n",
       "      <td>Cisco</td>\n",
       "      <td>26.2</td>\n",
       "      <td>Female_total</td>\n",
       "      <td>All Workers</td>\n",
       "    </tr>\n",
       "    <tr>\n",
       "      <th>5398</th>\n",
       "      <td>Google</td>\n",
       "      <td>29.2</td>\n",
       "      <td>Female_total</td>\n",
       "      <td>All Workers</td>\n",
       "    </tr>\n",
       "    <tr>\n",
       "      <th>5400</th>\n",
       "      <td>Uber</td>\n",
       "      <td>29.5</td>\n",
       "      <td>Female_total</td>\n",
       "      <td>All Workers</td>\n",
       "    </tr>\n",
       "    <tr>\n",
       "      <th>5408</th>\n",
       "      <td>Apple</td>\n",
       "      <td>30.7</td>\n",
       "      <td>Female_total</td>\n",
       "      <td>All Workers</td>\n",
       "    </tr>\n",
       "    <tr>\n",
       "      <th>5409</th>\n",
       "      <td>MobileIron</td>\n",
       "      <td>30.8</td>\n",
       "      <td>Female_total</td>\n",
       "      <td>All Workers</td>\n",
       "    </tr>\n",
       "    <tr>\n",
       "      <th>5412</th>\n",
       "      <td>HP Inc.</td>\n",
       "      <td>31.0</td>\n",
       "      <td>Female_total</td>\n",
       "      <td>All Workers</td>\n",
       "    </tr>\n",
       "    <tr>\n",
       "      <th>5417</th>\n",
       "      <td>Facebook</td>\n",
       "      <td>31.7</td>\n",
       "      <td>Female_total</td>\n",
       "      <td>All Workers</td>\n",
       "    </tr>\n",
       "    <tr>\n",
       "      <th>5418</th>\n",
       "      <td>Salesforce</td>\n",
       "      <td>31.9</td>\n",
       "      <td>Female_total</td>\n",
       "      <td>All Workers</td>\n",
       "    </tr>\n",
       "    <tr>\n",
       "      <th>5419</th>\n",
       "      <td>Adobe</td>\n",
       "      <td>32.2</td>\n",
       "      <td>Female_total</td>\n",
       "      <td>All Workers</td>\n",
       "    </tr>\n",
       "    <tr>\n",
       "      <th>5420</th>\n",
       "      <td>HPE</td>\n",
       "      <td>33.1</td>\n",
       "      <td>Female_total</td>\n",
       "      <td>All Workers</td>\n",
       "    </tr>\n",
       "    <tr>\n",
       "      <th>5429</th>\n",
       "      <td>Square</td>\n",
       "      <td>34.6</td>\n",
       "      <td>Female_total</td>\n",
       "      <td>All Workers</td>\n",
       "    </tr>\n",
       "    <tr>\n",
       "      <th>5431</th>\n",
       "      <td>Twitter</td>\n",
       "      <td>35.4</td>\n",
       "      <td>Female_total</td>\n",
       "      <td>All Workers</td>\n",
       "    </tr>\n",
       "    <tr>\n",
       "      <th>5433</th>\n",
       "      <td>eBay</td>\n",
       "      <td>35.9</td>\n",
       "      <td>Female_total</td>\n",
       "      <td>All Workers</td>\n",
       "    </tr>\n",
       "    <tr>\n",
       "      <th>5442</th>\n",
       "      <td>Sanmina</td>\n",
       "      <td>39.0</td>\n",
       "      <td>Female_total</td>\n",
       "      <td>All Workers</td>\n",
       "    </tr>\n",
       "    <tr>\n",
       "      <th>5450</th>\n",
       "      <td>LinkedIn</td>\n",
       "      <td>40.2</td>\n",
       "      <td>Female_total</td>\n",
       "      <td>All Workers</td>\n",
       "    </tr>\n",
       "    <tr>\n",
       "      <th>5454</th>\n",
       "      <td>Lyft</td>\n",
       "      <td>42.5</td>\n",
       "      <td>Female_total</td>\n",
       "      <td>All Workers</td>\n",
       "    </tr>\n",
       "    <tr>\n",
       "      <th>5457</th>\n",
       "      <td>Airbnb</td>\n",
       "      <td>42.9</td>\n",
       "      <td>Female_total</td>\n",
       "      <td>All Workers</td>\n",
       "    </tr>\n",
       "    <tr>\n",
       "      <th>5458</th>\n",
       "      <td>Intuit</td>\n",
       "      <td>42.9</td>\n",
       "      <td>Female_total</td>\n",
       "      <td>All Workers</td>\n",
       "    </tr>\n",
       "    <tr>\n",
       "      <th>5459</th>\n",
       "      <td>PayPal</td>\n",
       "      <td>42.9</td>\n",
       "      <td>Female_total</td>\n",
       "      <td>All Workers</td>\n",
       "    </tr>\n",
       "    <tr>\n",
       "      <th>5460</th>\n",
       "      <td>Pinterest</td>\n",
       "      <td>43.1</td>\n",
       "      <td>Female_total</td>\n",
       "      <td>All Workers</td>\n",
       "    </tr>\n",
       "    <tr>\n",
       "      <th>5475</th>\n",
       "      <td>23andMe</td>\n",
       "      <td>50.2</td>\n",
       "      <td>Female_total</td>\n",
       "      <td>All Workers</td>\n",
       "    </tr>\n",
       "  </tbody>\n",
       "</table>\n",
       "</div>"
      ],
      "text/plain": [
       "         company  percentage  demographics job_category\n",
       "5311        View        17.0  Female_total  All Workers\n",
       "5313      Nvidia        17.2  Female_total  All Workers\n",
       "5354      NetApp        24.0  Female_total  All Workers\n",
       "5373       Intel        26.0  Female_total  All Workers\n",
       "5376       Cisco        26.2  Female_total  All Workers\n",
       "5398      Google        29.2  Female_total  All Workers\n",
       "5400        Uber        29.5  Female_total  All Workers\n",
       "5408       Apple        30.7  Female_total  All Workers\n",
       "5409  MobileIron        30.8  Female_total  All Workers\n",
       "5412     HP Inc.        31.0  Female_total  All Workers\n",
       "5417    Facebook        31.7  Female_total  All Workers\n",
       "5418  Salesforce        31.9  Female_total  All Workers\n",
       "5419       Adobe        32.2  Female_total  All Workers\n",
       "5420         HPE        33.1  Female_total  All Workers\n",
       "5429      Square        34.6  Female_total  All Workers\n",
       "5431     Twitter        35.4  Female_total  All Workers\n",
       "5433        eBay        35.9  Female_total  All Workers\n",
       "5442     Sanmina        39.0  Female_total  All Workers\n",
       "5450    LinkedIn        40.2  Female_total  All Workers\n",
       "5454        Lyft        42.5  Female_total  All Workers\n",
       "5457      Airbnb        42.9  Female_total  All Workers\n",
       "5458      Intuit        42.9  Female_total  All Workers\n",
       "5459      PayPal        42.9  Female_total  All Workers\n",
       "5460   Pinterest        43.1  Female_total  All Workers\n",
       "5475     23andMe        50.2  Female_total  All Workers"
      ]
     },
     "execution_count": 24,
     "metadata": {},
     "output_type": "execute_result"
    }
   ],
   "source": [
    "# Create dataframe of female percentages across all workers across all companies\n",
    "distfemAW_df2 = distfem_df2[distfem_df2['job_category']=='All Workers']\n",
    "distfemAW_df2"
   ]
  },
  {
   "cell_type": "code",
   "execution_count": 34,
   "metadata": {},
   "outputs": [
    {
     "data": {
      "application/vnd.plotly.v1+json": {
       "config": {
        "plotlyServerURL": "https://plot.ly"
       },
       "data": [
        {
         "alignmentgroup": "True",
         "hoverlabel": {
          "namelength": 0
         },
         "hovertemplate": "x=%{x}<br>y=%{y}<br>text=%{text}",
         "legendgroup": "",
         "marker": {
          "color": "#636efa"
         },
         "name": "",
         "offsetgroup": "",
         "orientation": "v",
         "showlegend": false,
         "text": [
          17,
          17.2,
          24,
          26,
          26.2,
          29.2,
          29.5,
          30.7,
          30.8,
          31,
          31.7,
          31.9,
          32.2,
          33.1,
          34.6,
          35.4,
          35.9,
          39,
          40.2,
          42.5,
          42.9,
          42.9,
          42.9,
          43.1,
          50.2
         ],
         "textposition": "auto",
         "type": "bar",
         "x": [
          "View",
          "Nvidia",
          "NetApp",
          "Intel",
          "Cisco",
          "Google",
          "Uber",
          "Apple",
          "MobileIron",
          "HP Inc.",
          "Facebook",
          "Salesforce",
          "Adobe",
          "HPE",
          "Square",
          "Twitter",
          "eBay",
          "Sanmina",
          "LinkedIn",
          "Lyft",
          "Airbnb",
          "Intuit",
          "PayPal",
          "Pinterest",
          "23andMe"
         ],
         "xaxis": "x",
         "y": [
          17,
          17.2,
          24,
          26,
          26.2,
          29.2,
          29.5,
          30.7,
          30.8,
          31,
          31.7,
          31.9,
          32.2,
          33.1,
          34.6,
          35.4,
          35.9,
          39,
          40.2,
          42.5,
          42.9,
          42.9,
          42.9,
          43.1,
          50.2
         ],
         "yaxis": "y"
        }
       ],
       "layout": {
        "barmode": "relative",
        "font": {
         "color": "Black",
         "family": "Courier new, monospace",
         "size": 10
        },
        "height": 600,
        "legend": {
         "tracegroupgap": 0
        },
        "margin": {
         "t": 60
        },
        "template": {
         "data": {
          "bar": [
           {
            "error_x": {
             "color": "#2a3f5f"
            },
            "error_y": {
             "color": "#2a3f5f"
            },
            "marker": {
             "line": {
              "color": "#E5ECF6",
              "width": 0.5
             }
            },
            "type": "bar"
           }
          ],
          "barpolar": [
           {
            "marker": {
             "line": {
              "color": "#E5ECF6",
              "width": 0.5
             }
            },
            "type": "barpolar"
           }
          ],
          "carpet": [
           {
            "aaxis": {
             "endlinecolor": "#2a3f5f",
             "gridcolor": "white",
             "linecolor": "white",
             "minorgridcolor": "white",
             "startlinecolor": "#2a3f5f"
            },
            "baxis": {
             "endlinecolor": "#2a3f5f",
             "gridcolor": "white",
             "linecolor": "white",
             "minorgridcolor": "white",
             "startlinecolor": "#2a3f5f"
            },
            "type": "carpet"
           }
          ],
          "choropleth": [
           {
            "colorbar": {
             "outlinewidth": 0,
             "ticks": ""
            },
            "type": "choropleth"
           }
          ],
          "contour": [
           {
            "colorbar": {
             "outlinewidth": 0,
             "ticks": ""
            },
            "colorscale": [
             [
              0,
              "#0d0887"
             ],
             [
              0.1111111111111111,
              "#46039f"
             ],
             [
              0.2222222222222222,
              "#7201a8"
             ],
             [
              0.3333333333333333,
              "#9c179e"
             ],
             [
              0.4444444444444444,
              "#bd3786"
             ],
             [
              0.5555555555555556,
              "#d8576b"
             ],
             [
              0.6666666666666666,
              "#ed7953"
             ],
             [
              0.7777777777777778,
              "#fb9f3a"
             ],
             [
              0.8888888888888888,
              "#fdca26"
             ],
             [
              1,
              "#f0f921"
             ]
            ],
            "type": "contour"
           }
          ],
          "contourcarpet": [
           {
            "colorbar": {
             "outlinewidth": 0,
             "ticks": ""
            },
            "type": "contourcarpet"
           }
          ],
          "heatmap": [
           {
            "colorbar": {
             "outlinewidth": 0,
             "ticks": ""
            },
            "colorscale": [
             [
              0,
              "#0d0887"
             ],
             [
              0.1111111111111111,
              "#46039f"
             ],
             [
              0.2222222222222222,
              "#7201a8"
             ],
             [
              0.3333333333333333,
              "#9c179e"
             ],
             [
              0.4444444444444444,
              "#bd3786"
             ],
             [
              0.5555555555555556,
              "#d8576b"
             ],
             [
              0.6666666666666666,
              "#ed7953"
             ],
             [
              0.7777777777777778,
              "#fb9f3a"
             ],
             [
              0.8888888888888888,
              "#fdca26"
             ],
             [
              1,
              "#f0f921"
             ]
            ],
            "type": "heatmap"
           }
          ],
          "heatmapgl": [
           {
            "colorbar": {
             "outlinewidth": 0,
             "ticks": ""
            },
            "colorscale": [
             [
              0,
              "#0d0887"
             ],
             [
              0.1111111111111111,
              "#46039f"
             ],
             [
              0.2222222222222222,
              "#7201a8"
             ],
             [
              0.3333333333333333,
              "#9c179e"
             ],
             [
              0.4444444444444444,
              "#bd3786"
             ],
             [
              0.5555555555555556,
              "#d8576b"
             ],
             [
              0.6666666666666666,
              "#ed7953"
             ],
             [
              0.7777777777777778,
              "#fb9f3a"
             ],
             [
              0.8888888888888888,
              "#fdca26"
             ],
             [
              1,
              "#f0f921"
             ]
            ],
            "type": "heatmapgl"
           }
          ],
          "histogram": [
           {
            "marker": {
             "colorbar": {
              "outlinewidth": 0,
              "ticks": ""
             }
            },
            "type": "histogram"
           }
          ],
          "histogram2d": [
           {
            "colorbar": {
             "outlinewidth": 0,
             "ticks": ""
            },
            "colorscale": [
             [
              0,
              "#0d0887"
             ],
             [
              0.1111111111111111,
              "#46039f"
             ],
             [
              0.2222222222222222,
              "#7201a8"
             ],
             [
              0.3333333333333333,
              "#9c179e"
             ],
             [
              0.4444444444444444,
              "#bd3786"
             ],
             [
              0.5555555555555556,
              "#d8576b"
             ],
             [
              0.6666666666666666,
              "#ed7953"
             ],
             [
              0.7777777777777778,
              "#fb9f3a"
             ],
             [
              0.8888888888888888,
              "#fdca26"
             ],
             [
              1,
              "#f0f921"
             ]
            ],
            "type": "histogram2d"
           }
          ],
          "histogram2dcontour": [
           {
            "colorbar": {
             "outlinewidth": 0,
             "ticks": ""
            },
            "colorscale": [
             [
              0,
              "#0d0887"
             ],
             [
              0.1111111111111111,
              "#46039f"
             ],
             [
              0.2222222222222222,
              "#7201a8"
             ],
             [
              0.3333333333333333,
              "#9c179e"
             ],
             [
              0.4444444444444444,
              "#bd3786"
             ],
             [
              0.5555555555555556,
              "#d8576b"
             ],
             [
              0.6666666666666666,
              "#ed7953"
             ],
             [
              0.7777777777777778,
              "#fb9f3a"
             ],
             [
              0.8888888888888888,
              "#fdca26"
             ],
             [
              1,
              "#f0f921"
             ]
            ],
            "type": "histogram2dcontour"
           }
          ],
          "mesh3d": [
           {
            "colorbar": {
             "outlinewidth": 0,
             "ticks": ""
            },
            "type": "mesh3d"
           }
          ],
          "parcoords": [
           {
            "line": {
             "colorbar": {
              "outlinewidth": 0,
              "ticks": ""
             }
            },
            "type": "parcoords"
           }
          ],
          "pie": [
           {
            "automargin": true,
            "type": "pie"
           }
          ],
          "scatter": [
           {
            "marker": {
             "colorbar": {
              "outlinewidth": 0,
              "ticks": ""
             }
            },
            "type": "scatter"
           }
          ],
          "scatter3d": [
           {
            "line": {
             "colorbar": {
              "outlinewidth": 0,
              "ticks": ""
             }
            },
            "marker": {
             "colorbar": {
              "outlinewidth": 0,
              "ticks": ""
             }
            },
            "type": "scatter3d"
           }
          ],
          "scattercarpet": [
           {
            "marker": {
             "colorbar": {
              "outlinewidth": 0,
              "ticks": ""
             }
            },
            "type": "scattercarpet"
           }
          ],
          "scattergeo": [
           {
            "marker": {
             "colorbar": {
              "outlinewidth": 0,
              "ticks": ""
             }
            },
            "type": "scattergeo"
           }
          ],
          "scattergl": [
           {
            "marker": {
             "colorbar": {
              "outlinewidth": 0,
              "ticks": ""
             }
            },
            "type": "scattergl"
           }
          ],
          "scattermapbox": [
           {
            "marker": {
             "colorbar": {
              "outlinewidth": 0,
              "ticks": ""
             }
            },
            "type": "scattermapbox"
           }
          ],
          "scatterpolar": [
           {
            "marker": {
             "colorbar": {
              "outlinewidth": 0,
              "ticks": ""
             }
            },
            "type": "scatterpolar"
           }
          ],
          "scatterpolargl": [
           {
            "marker": {
             "colorbar": {
              "outlinewidth": 0,
              "ticks": ""
             }
            },
            "type": "scatterpolargl"
           }
          ],
          "scatterternary": [
           {
            "marker": {
             "colorbar": {
              "outlinewidth": 0,
              "ticks": ""
             }
            },
            "type": "scatterternary"
           }
          ],
          "surface": [
           {
            "colorbar": {
             "outlinewidth": 0,
             "ticks": ""
            },
            "colorscale": [
             [
              0,
              "#0d0887"
             ],
             [
              0.1111111111111111,
              "#46039f"
             ],
             [
              0.2222222222222222,
              "#7201a8"
             ],
             [
              0.3333333333333333,
              "#9c179e"
             ],
             [
              0.4444444444444444,
              "#bd3786"
             ],
             [
              0.5555555555555556,
              "#d8576b"
             ],
             [
              0.6666666666666666,
              "#ed7953"
             ],
             [
              0.7777777777777778,
              "#fb9f3a"
             ],
             [
              0.8888888888888888,
              "#fdca26"
             ],
             [
              1,
              "#f0f921"
             ]
            ],
            "type": "surface"
           }
          ],
          "table": [
           {
            "cells": {
             "fill": {
              "color": "#EBF0F8"
             },
             "line": {
              "color": "white"
             }
            },
            "header": {
             "fill": {
              "color": "#C8D4E3"
             },
             "line": {
              "color": "white"
             }
            },
            "type": "table"
           }
          ]
         },
         "layout": {
          "annotationdefaults": {
           "arrowcolor": "#2a3f5f",
           "arrowhead": 0,
           "arrowwidth": 1
          },
          "coloraxis": {
           "colorbar": {
            "outlinewidth": 0,
            "ticks": ""
           }
          },
          "colorscale": {
           "diverging": [
            [
             0,
             "#8e0152"
            ],
            [
             0.1,
             "#c51b7d"
            ],
            [
             0.2,
             "#de77ae"
            ],
            [
             0.3,
             "#f1b6da"
            ],
            [
             0.4,
             "#fde0ef"
            ],
            [
             0.5,
             "#f7f7f7"
            ],
            [
             0.6,
             "#e6f5d0"
            ],
            [
             0.7,
             "#b8e186"
            ],
            [
             0.8,
             "#7fbc41"
            ],
            [
             0.9,
             "#4d9221"
            ],
            [
             1,
             "#276419"
            ]
           ],
           "sequential": [
            [
             0,
             "#0d0887"
            ],
            [
             0.1111111111111111,
             "#46039f"
            ],
            [
             0.2222222222222222,
             "#7201a8"
            ],
            [
             0.3333333333333333,
             "#9c179e"
            ],
            [
             0.4444444444444444,
             "#bd3786"
            ],
            [
             0.5555555555555556,
             "#d8576b"
            ],
            [
             0.6666666666666666,
             "#ed7953"
            ],
            [
             0.7777777777777778,
             "#fb9f3a"
            ],
            [
             0.8888888888888888,
             "#fdca26"
            ],
            [
             1,
             "#f0f921"
            ]
           ],
           "sequentialminus": [
            [
             0,
             "#0d0887"
            ],
            [
             0.1111111111111111,
             "#46039f"
            ],
            [
             0.2222222222222222,
             "#7201a8"
            ],
            [
             0.3333333333333333,
             "#9c179e"
            ],
            [
             0.4444444444444444,
             "#bd3786"
            ],
            [
             0.5555555555555556,
             "#d8576b"
            ],
            [
             0.6666666666666666,
             "#ed7953"
            ],
            [
             0.7777777777777778,
             "#fb9f3a"
            ],
            [
             0.8888888888888888,
             "#fdca26"
            ],
            [
             1,
             "#f0f921"
            ]
           ]
          },
          "colorway": [
           "#636efa",
           "#EF553B",
           "#00cc96",
           "#ab63fa",
           "#FFA15A",
           "#19d3f3",
           "#FF6692",
           "#B6E880",
           "#FF97FF",
           "#FECB52"
          ],
          "font": {
           "color": "#2a3f5f"
          },
          "geo": {
           "bgcolor": "white",
           "lakecolor": "white",
           "landcolor": "#E5ECF6",
           "showlakes": true,
           "showland": true,
           "subunitcolor": "white"
          },
          "hoverlabel": {
           "align": "left"
          },
          "hovermode": "closest",
          "mapbox": {
           "style": "light"
          },
          "paper_bgcolor": "white",
          "plot_bgcolor": "#E5ECF6",
          "polar": {
           "angularaxis": {
            "gridcolor": "white",
            "linecolor": "white",
            "ticks": ""
           },
           "bgcolor": "#E5ECF6",
           "radialaxis": {
            "gridcolor": "white",
            "linecolor": "white",
            "ticks": ""
           }
          },
          "scene": {
           "xaxis": {
            "backgroundcolor": "#E5ECF6",
            "gridcolor": "white",
            "gridwidth": 2,
            "linecolor": "white",
            "showbackground": true,
            "ticks": "",
            "zerolinecolor": "white"
           },
           "yaxis": {
            "backgroundcolor": "#E5ECF6",
            "gridcolor": "white",
            "gridwidth": 2,
            "linecolor": "white",
            "showbackground": true,
            "ticks": "",
            "zerolinecolor": "white"
           },
           "zaxis": {
            "backgroundcolor": "#E5ECF6",
            "gridcolor": "white",
            "gridwidth": 2,
            "linecolor": "white",
            "showbackground": true,
            "ticks": "",
            "zerolinecolor": "white"
           }
          },
          "shapedefaults": {
           "line": {
            "color": "#2a3f5f"
           }
          },
          "ternary": {
           "aaxis": {
            "gridcolor": "white",
            "linecolor": "white",
            "ticks": ""
           },
           "baxis": {
            "gridcolor": "white",
            "linecolor": "white",
            "ticks": ""
           },
           "bgcolor": "#E5ECF6",
           "caxis": {
            "gridcolor": "white",
            "linecolor": "white",
            "ticks": ""
           }
          },
          "title": {
           "x": 0.05
          },
          "xaxis": {
           "automargin": true,
           "gridcolor": "white",
           "linecolor": "white",
           "ticks": "",
           "title": {
            "standoff": 15
           },
           "zerolinecolor": "white",
           "zerolinewidth": 2
          },
          "yaxis": {
           "automargin": true,
           "gridcolor": "white",
           "linecolor": "white",
           "ticks": "",
           "title": {
            "standoff": 15
           },
           "zerolinecolor": "white",
           "zerolinewidth": 2
          }
         }
        },
        "title": {
         "text": "Female percentages at tech companies across all job categories"
        },
        "xaxis": {
         "anchor": "y",
         "domain": [
          0,
          1
         ],
         "title": {
          "text": "Company"
         }
        },
        "yaxis": {
         "anchor": "x",
         "domain": [
          0,
          1
         ],
         "title": {
          "text": "Percentage of women"
         }
        }
       }
      },
      "text/html": [
       "<div>\n",
       "        \n",
       "        \n",
       "            <div id=\"d73d2fe6-f7f5-43f3-ab2a-54ab86cd0c6f\" class=\"plotly-graph-div\" style=\"height:600px; width:100%;\"></div>\n",
       "            <script type=\"text/javascript\">\n",
       "                require([\"plotly\"], function(Plotly) {\n",
       "                    window.PLOTLYENV=window.PLOTLYENV || {};\n",
       "                    \n",
       "                if (document.getElementById(\"d73d2fe6-f7f5-43f3-ab2a-54ab86cd0c6f\")) {\n",
       "                    Plotly.newPlot(\n",
       "                        'd73d2fe6-f7f5-43f3-ab2a-54ab86cd0c6f',\n",
       "                        [{\"alignmentgroup\": \"True\", \"hoverlabel\": {\"namelength\": 0}, \"hovertemplate\": \"x=%{x}<br>y=%{y}<br>text=%{text}\", \"legendgroup\": \"\", \"marker\": {\"color\": \"#636efa\"}, \"name\": \"\", \"offsetgroup\": \"\", \"orientation\": \"v\", \"showlegend\": false, \"text\": [17.0, 17.2, 24.0, 26.0, 26.2, 29.2, 29.5, 30.7, 30.8, 31.0, 31.7, 31.9, 32.2, 33.1, 34.6, 35.4, 35.9, 39.0, 40.2, 42.5, 42.9, 42.9, 42.9, 43.1, 50.2], \"textposition\": \"auto\", \"type\": \"bar\", \"x\": [\"View\", \"Nvidia\", \"NetApp\", \"Intel\", \"Cisco\", \"Google\", \"Uber\", \"Apple\", \"MobileIron\", \"HP Inc.\", \"Facebook\", \"Salesforce\", \"Adobe\", \"HPE\", \"Square\", \"Twitter\", \"eBay\", \"Sanmina\", \"LinkedIn\", \"Lyft\", \"Airbnb\", \"Intuit\", \"PayPal\", \"Pinterest\", \"23andMe\"], \"xaxis\": \"x\", \"y\": [17.0, 17.2, 24.0, 26.0, 26.2, 29.2, 29.5, 30.7, 30.8, 31.0, 31.7, 31.9, 32.2, 33.1, 34.6, 35.4, 35.9, 39.0, 40.2, 42.5, 42.9, 42.9, 42.9, 43.1, 50.2], \"yaxis\": \"y\"}],\n",
       "                        {\"barmode\": \"relative\", \"font\": {\"color\": \"Black\", \"family\": \"Courier new, monospace\", \"size\": 10}, \"height\": 600, \"legend\": {\"tracegroupgap\": 0}, \"margin\": {\"t\": 60}, \"template\": {\"data\": {\"bar\": [{\"error_x\": {\"color\": \"#2a3f5f\"}, \"error_y\": {\"color\": \"#2a3f5f\"}, \"marker\": {\"line\": {\"color\": \"#E5ECF6\", \"width\": 0.5}}, \"type\": \"bar\"}], \"barpolar\": [{\"marker\": {\"line\": {\"color\": \"#E5ECF6\", \"width\": 0.5}}, \"type\": \"barpolar\"}], \"carpet\": [{\"aaxis\": {\"endlinecolor\": \"#2a3f5f\", \"gridcolor\": \"white\", \"linecolor\": \"white\", \"minorgridcolor\": \"white\", \"startlinecolor\": \"#2a3f5f\"}, \"baxis\": {\"endlinecolor\": \"#2a3f5f\", \"gridcolor\": \"white\", \"linecolor\": \"white\", \"minorgridcolor\": \"white\", \"startlinecolor\": \"#2a3f5f\"}, \"type\": \"carpet\"}], \"choropleth\": [{\"colorbar\": {\"outlinewidth\": 0, \"ticks\": \"\"}, \"type\": \"choropleth\"}], \"contour\": [{\"colorbar\": {\"outlinewidth\": 0, \"ticks\": \"\"}, \"colorscale\": [[0.0, \"#0d0887\"], [0.1111111111111111, \"#46039f\"], [0.2222222222222222, \"#7201a8\"], [0.3333333333333333, \"#9c179e\"], [0.4444444444444444, \"#bd3786\"], [0.5555555555555556, \"#d8576b\"], [0.6666666666666666, \"#ed7953\"], [0.7777777777777778, \"#fb9f3a\"], [0.8888888888888888, \"#fdca26\"], [1.0, \"#f0f921\"]], \"type\": \"contour\"}], \"contourcarpet\": [{\"colorbar\": {\"outlinewidth\": 0, \"ticks\": \"\"}, \"type\": \"contourcarpet\"}], \"heatmap\": [{\"colorbar\": {\"outlinewidth\": 0, \"ticks\": \"\"}, \"colorscale\": [[0.0, \"#0d0887\"], [0.1111111111111111, \"#46039f\"], [0.2222222222222222, \"#7201a8\"], [0.3333333333333333, \"#9c179e\"], [0.4444444444444444, \"#bd3786\"], [0.5555555555555556, \"#d8576b\"], [0.6666666666666666, \"#ed7953\"], [0.7777777777777778, \"#fb9f3a\"], [0.8888888888888888, \"#fdca26\"], [1.0, \"#f0f921\"]], \"type\": \"heatmap\"}], \"heatmapgl\": [{\"colorbar\": {\"outlinewidth\": 0, \"ticks\": \"\"}, \"colorscale\": [[0.0, \"#0d0887\"], [0.1111111111111111, \"#46039f\"], [0.2222222222222222, \"#7201a8\"], [0.3333333333333333, \"#9c179e\"], [0.4444444444444444, \"#bd3786\"], [0.5555555555555556, \"#d8576b\"], [0.6666666666666666, \"#ed7953\"], [0.7777777777777778, \"#fb9f3a\"], [0.8888888888888888, \"#fdca26\"], [1.0, \"#f0f921\"]], \"type\": \"heatmapgl\"}], \"histogram\": [{\"marker\": {\"colorbar\": {\"outlinewidth\": 0, \"ticks\": \"\"}}, \"type\": \"histogram\"}], \"histogram2d\": [{\"colorbar\": {\"outlinewidth\": 0, \"ticks\": \"\"}, \"colorscale\": [[0.0, \"#0d0887\"], [0.1111111111111111, \"#46039f\"], [0.2222222222222222, \"#7201a8\"], [0.3333333333333333, \"#9c179e\"], [0.4444444444444444, \"#bd3786\"], [0.5555555555555556, \"#d8576b\"], [0.6666666666666666, \"#ed7953\"], [0.7777777777777778, \"#fb9f3a\"], [0.8888888888888888, \"#fdca26\"], [1.0, \"#f0f921\"]], \"type\": \"histogram2d\"}], \"histogram2dcontour\": [{\"colorbar\": {\"outlinewidth\": 0, \"ticks\": \"\"}, \"colorscale\": [[0.0, \"#0d0887\"], [0.1111111111111111, \"#46039f\"], [0.2222222222222222, \"#7201a8\"], [0.3333333333333333, \"#9c179e\"], [0.4444444444444444, \"#bd3786\"], [0.5555555555555556, \"#d8576b\"], [0.6666666666666666, \"#ed7953\"], [0.7777777777777778, \"#fb9f3a\"], [0.8888888888888888, \"#fdca26\"], [1.0, \"#f0f921\"]], \"type\": \"histogram2dcontour\"}], \"mesh3d\": [{\"colorbar\": {\"outlinewidth\": 0, \"ticks\": \"\"}, \"type\": \"mesh3d\"}], \"parcoords\": [{\"line\": {\"colorbar\": {\"outlinewidth\": 0, \"ticks\": \"\"}}, \"type\": \"parcoords\"}], \"pie\": [{\"automargin\": true, \"type\": \"pie\"}], \"scatter\": [{\"marker\": {\"colorbar\": {\"outlinewidth\": 0, \"ticks\": \"\"}}, \"type\": \"scatter\"}], \"scatter3d\": [{\"line\": {\"colorbar\": {\"outlinewidth\": 0, \"ticks\": \"\"}}, \"marker\": {\"colorbar\": {\"outlinewidth\": 0, \"ticks\": \"\"}}, \"type\": \"scatter3d\"}], \"scattercarpet\": [{\"marker\": {\"colorbar\": {\"outlinewidth\": 0, \"ticks\": \"\"}}, \"type\": \"scattercarpet\"}], \"scattergeo\": [{\"marker\": {\"colorbar\": {\"outlinewidth\": 0, \"ticks\": \"\"}}, \"type\": \"scattergeo\"}], \"scattergl\": [{\"marker\": {\"colorbar\": {\"outlinewidth\": 0, \"ticks\": \"\"}}, \"type\": \"scattergl\"}], \"scattermapbox\": [{\"marker\": {\"colorbar\": {\"outlinewidth\": 0, \"ticks\": \"\"}}, \"type\": \"scattermapbox\"}], \"scatterpolar\": [{\"marker\": {\"colorbar\": {\"outlinewidth\": 0, \"ticks\": \"\"}}, \"type\": \"scatterpolar\"}], \"scatterpolargl\": [{\"marker\": {\"colorbar\": {\"outlinewidth\": 0, \"ticks\": \"\"}}, \"type\": \"scatterpolargl\"}], \"scatterternary\": [{\"marker\": {\"colorbar\": {\"outlinewidth\": 0, \"ticks\": \"\"}}, \"type\": \"scatterternary\"}], \"surface\": [{\"colorbar\": {\"outlinewidth\": 0, \"ticks\": \"\"}, \"colorscale\": [[0.0, \"#0d0887\"], [0.1111111111111111, \"#46039f\"], [0.2222222222222222, \"#7201a8\"], [0.3333333333333333, \"#9c179e\"], [0.4444444444444444, \"#bd3786\"], [0.5555555555555556, \"#d8576b\"], [0.6666666666666666, \"#ed7953\"], [0.7777777777777778, \"#fb9f3a\"], [0.8888888888888888, \"#fdca26\"], [1.0, \"#f0f921\"]], \"type\": \"surface\"}], \"table\": [{\"cells\": {\"fill\": {\"color\": \"#EBF0F8\"}, \"line\": {\"color\": \"white\"}}, \"header\": {\"fill\": {\"color\": \"#C8D4E3\"}, \"line\": {\"color\": \"white\"}}, \"type\": \"table\"}]}, \"layout\": {\"annotationdefaults\": {\"arrowcolor\": \"#2a3f5f\", \"arrowhead\": 0, \"arrowwidth\": 1}, \"coloraxis\": {\"colorbar\": {\"outlinewidth\": 0, \"ticks\": \"\"}}, \"colorscale\": {\"diverging\": [[0, \"#8e0152\"], [0.1, \"#c51b7d\"], [0.2, \"#de77ae\"], [0.3, \"#f1b6da\"], [0.4, \"#fde0ef\"], [0.5, \"#f7f7f7\"], [0.6, \"#e6f5d0\"], [0.7, \"#b8e186\"], [0.8, \"#7fbc41\"], [0.9, \"#4d9221\"], [1, \"#276419\"]], \"sequential\": [[0.0, \"#0d0887\"], [0.1111111111111111, \"#46039f\"], [0.2222222222222222, \"#7201a8\"], [0.3333333333333333, \"#9c179e\"], [0.4444444444444444, \"#bd3786\"], [0.5555555555555556, \"#d8576b\"], [0.6666666666666666, \"#ed7953\"], [0.7777777777777778, \"#fb9f3a\"], [0.8888888888888888, \"#fdca26\"], [1.0, \"#f0f921\"]], \"sequentialminus\": [[0.0, \"#0d0887\"], [0.1111111111111111, \"#46039f\"], [0.2222222222222222, \"#7201a8\"], [0.3333333333333333, \"#9c179e\"], [0.4444444444444444, \"#bd3786\"], [0.5555555555555556, \"#d8576b\"], [0.6666666666666666, \"#ed7953\"], [0.7777777777777778, \"#fb9f3a\"], [0.8888888888888888, \"#fdca26\"], [1.0, \"#f0f921\"]]}, \"colorway\": [\"#636efa\", \"#EF553B\", \"#00cc96\", \"#ab63fa\", \"#FFA15A\", \"#19d3f3\", \"#FF6692\", \"#B6E880\", \"#FF97FF\", \"#FECB52\"], \"font\": {\"color\": \"#2a3f5f\"}, \"geo\": {\"bgcolor\": \"white\", \"lakecolor\": \"white\", \"landcolor\": \"#E5ECF6\", \"showlakes\": true, \"showland\": true, \"subunitcolor\": \"white\"}, \"hoverlabel\": {\"align\": \"left\"}, \"hovermode\": \"closest\", \"mapbox\": {\"style\": \"light\"}, \"paper_bgcolor\": \"white\", \"plot_bgcolor\": \"#E5ECF6\", \"polar\": {\"angularaxis\": {\"gridcolor\": \"white\", \"linecolor\": \"white\", \"ticks\": \"\"}, \"bgcolor\": \"#E5ECF6\", \"radialaxis\": {\"gridcolor\": \"white\", \"linecolor\": \"white\", \"ticks\": \"\"}}, \"scene\": {\"xaxis\": {\"backgroundcolor\": \"#E5ECF6\", \"gridcolor\": \"white\", \"gridwidth\": 2, \"linecolor\": \"white\", \"showbackground\": true, \"ticks\": \"\", \"zerolinecolor\": \"white\"}, \"yaxis\": {\"backgroundcolor\": \"#E5ECF6\", \"gridcolor\": \"white\", \"gridwidth\": 2, \"linecolor\": \"white\", \"showbackground\": true, \"ticks\": \"\", \"zerolinecolor\": \"white\"}, \"zaxis\": {\"backgroundcolor\": \"#E5ECF6\", \"gridcolor\": \"white\", \"gridwidth\": 2, \"linecolor\": \"white\", \"showbackground\": true, \"ticks\": \"\", \"zerolinecolor\": \"white\"}}, \"shapedefaults\": {\"line\": {\"color\": \"#2a3f5f\"}}, \"ternary\": {\"aaxis\": {\"gridcolor\": \"white\", \"linecolor\": \"white\", \"ticks\": \"\"}, \"baxis\": {\"gridcolor\": \"white\", \"linecolor\": \"white\", \"ticks\": \"\"}, \"bgcolor\": \"#E5ECF6\", \"caxis\": {\"gridcolor\": \"white\", \"linecolor\": \"white\", \"ticks\": \"\"}}, \"title\": {\"x\": 0.05}, \"xaxis\": {\"automargin\": true, \"gridcolor\": \"white\", \"linecolor\": \"white\", \"ticks\": \"\", \"title\": {\"standoff\": 15}, \"zerolinecolor\": \"white\", \"zerolinewidth\": 2}, \"yaxis\": {\"automargin\": true, \"gridcolor\": \"white\", \"linecolor\": \"white\", \"ticks\": \"\", \"title\": {\"standoff\": 15}, \"zerolinecolor\": \"white\", \"zerolinewidth\": 2}}}, \"title\": {\"text\": \"Female percentages at tech companies across all job categories\"}, \"xaxis\": {\"anchor\": \"y\", \"domain\": [0.0, 1.0], \"title\": {\"text\": \"Company\"}}, \"yaxis\": {\"anchor\": \"x\", \"domain\": [0.0, 1.0], \"title\": {\"text\": \"Percentage of women\"}}},\n",
       "                        {\"responsive\": true}\n",
       "                    ).then(function(){\n",
       "                            \n",
       "var gd = document.getElementById('d73d2fe6-f7f5-43f3-ab2a-54ab86cd0c6f');\n",
       "var x = new MutationObserver(function (mutations, observer) {{\n",
       "        var display = window.getComputedStyle(gd).display;\n",
       "        if (!display || display === 'none') {{\n",
       "            console.log([gd, 'removed!']);\n",
       "            Plotly.purge(gd);\n",
       "            observer.disconnect();\n",
       "        }}\n",
       "}});\n",
       "\n",
       "// Listen for the removal of the full notebook cells\n",
       "var notebookContainer = gd.closest('#notebook-container');\n",
       "if (notebookContainer) {{\n",
       "    x.observe(notebookContainer, {childList: true});\n",
       "}}\n",
       "\n",
       "// Listen for the clearing of the current output cell\n",
       "var outputEl = gd.closest('.output');\n",
       "if (outputEl) {{\n",
       "    x.observe(outputEl, {childList: true});\n",
       "}}\n",
       "\n",
       "                        })\n",
       "                };\n",
       "                });\n",
       "            </script>\n",
       "        </div>"
      ]
     },
     "metadata": {},
     "output_type": "display_data"
    }
   ],
   "source": [
    "# Create figure for companies vs female percentages across all workers\n",
    "fig = px.bar(y=distfemAW_df2['percentage'], x=distfemAW_df2['company'], text=distfemAW_df2['percentage'],)\n",
    "fig.update_layout(title='Female percentages at tech companies across all job categories',\n",
    "                   xaxis_title='Company',\n",
    "                   yaxis_title='Percentage of women',\n",
    "                   font=dict(\n",
    "                   family=\"Courier new, monospace\",\n",
    "                   size=10,\n",
    "                   color=\"Black\"\n",
    "                ))\n",
    "display(fig)"
   ]
  },
  {
   "cell_type": "code",
   "execution_count": 32,
   "metadata": {},
   "outputs": [
    {
     "data": {
      "application/vnd.plotly.v1+json": {
       "config": {
        "plotlyServerURL": "https://plot.ly"
       },
       "data": [
        {
         "alignmentgroup": "True",
         "hoverlabel": {
          "namelength": 0
         },
         "hovertemplate": "color=Professionals<br>x=%{x}<br>y=%{y}<br>text=%{text}",
         "legendgroup": "color=Professionals",
         "marker": {
          "color": "#636efa"
         },
         "name": "color=Professionals",
         "offsetgroup": "color=Professionals",
         "orientation": "v",
         "showlegend": true,
         "text": [
          16.4,
          22.5,
          23.8,
          25,
          25.5,
          26,
          26.9,
          27.3,
          29.3,
          29.4,
          29.5,
          29.8,
          30.3,
          32,
          32.6,
          33,
          33.5,
          34.1,
          37,
          37.3,
          37.6,
          37.6,
          39.2,
          40.8,
          42
         ],
         "textposition": "auto",
         "type": "bar",
         "x": [
          "Nvidia",
          "View",
          "Google",
          "NetApp",
          "Apple",
          "Cisco",
          "Uber",
          "Intel",
          "eBay",
          "Facebook",
          "Adobe",
          "Square",
          "Twitter",
          "Salesforce",
          "PayPal",
          "HPE",
          "HP Inc.",
          "Sanmina",
          "MobileIron",
          "LinkedIn",
          "Intuit",
          "Lyft",
          "Airbnb",
          "Pinterest",
          "23andMe"
         ],
         "xaxis": "x",
         "y": [
          16.4,
          22.5,
          23.8,
          25,
          25.5,
          26,
          26.9,
          27.3,
          29.3,
          29.4,
          29.5,
          29.8,
          30.3,
          32,
          32.6,
          33,
          33.5,
          34.1,
          37,
          37.3,
          37.6,
          37.6,
          39.2,
          40.8,
          42
         ],
         "yaxis": "y"
        },
        {
         "alignmentgroup": "True",
         "hoverlabel": {
          "namelength": 0
         },
         "hovertemplate": "color=Executives<br>x=%{x}<br>y=%{y}<br>text=%{text}",
         "legendgroup": "color=Executives",
         "marker": {
          "color": "#EF553B"
         },
         "name": "color=Executives",
         "offsetgroup": "color=Executives",
         "orientation": "v",
         "showlegend": true,
         "text": [
          8.2,
          8.8,
          11.5,
          12.5,
          12.9,
          13.2,
          17.2,
          18.7,
          19.4,
          20,
          20,
          20.5,
          24.2,
          24.5,
          24.8,
          25,
          26.8,
          27.7,
          28,
          29.1,
          29.9,
          31.4,
          36.4,
          36.8,
          47.1
         ],
         "textposition": "auto",
         "type": "bar",
         "x": [
          "Sanmina",
          "View",
          "Nvidia",
          "Pinterest",
          "Google",
          "Intel",
          "HPE",
          "Apple",
          "Adobe",
          "MobileIron",
          "Lyft",
          "Cisco",
          "PayPal",
          "Salesforce",
          "HP Inc.",
          "NetApp",
          "Uber",
          "Twitter",
          "Facebook",
          "Intuit",
          "Airbnb",
          "eBay",
          "Square",
          "LinkedIn",
          "23andMe"
         ],
         "xaxis": "x",
         "y": [
          8.2,
          8.8,
          11.5,
          12.5,
          12.9,
          13.2,
          17.2,
          18.7,
          19.4,
          20,
          20,
          20.5,
          24.2,
          24.5,
          24.8,
          25,
          26.8,
          27.7,
          28,
          29.1,
          29.9,
          31.4,
          36.4,
          36.8,
          47.1
         ],
         "yaxis": "y"
        },
        {
         "alignmentgroup": "True",
         "hoverlabel": {
          "namelength": 0
         },
         "hovertemplate": "color=All Workers<br>x=%{x}<br>y=%{y}<br>text=%{text}",
         "legendgroup": "color=All Workers",
         "marker": {
          "color": "#00cc96"
         },
         "name": "color=All Workers",
         "offsetgroup": "color=All Workers",
         "orientation": "v",
         "showlegend": true,
         "text": [
          17,
          17.2,
          24,
          26,
          26.2,
          29.2,
          29.5,
          30.7,
          30.8,
          31,
          31.7,
          31.9,
          32.2,
          33.1,
          34.6,
          35.4,
          35.9,
          39,
          40.2,
          42.5,
          42.9,
          42.9,
          42.9,
          43.1,
          50.2
         ],
         "textposition": "auto",
         "type": "bar",
         "x": [
          "View",
          "Nvidia",
          "NetApp",
          "Intel",
          "Cisco",
          "Google",
          "Uber",
          "Apple",
          "MobileIron",
          "HP Inc.",
          "Facebook",
          "Salesforce",
          "Adobe",
          "HPE",
          "Square",
          "Twitter",
          "eBay",
          "Sanmina",
          "LinkedIn",
          "Lyft",
          "Airbnb",
          "Intuit",
          "PayPal",
          "Pinterest",
          "23andMe"
         ],
         "xaxis": "x",
         "y": [
          17,
          17.2,
          24,
          26,
          26.2,
          29.2,
          29.5,
          30.7,
          30.8,
          31,
          31.7,
          31.9,
          32.2,
          33.1,
          34.6,
          35.4,
          35.9,
          39,
          40.2,
          42.5,
          42.9,
          42.9,
          42.9,
          43.1,
          50.2
         ],
         "yaxis": "y"
        },
        {
         "alignmentgroup": "True",
         "hoverlabel": {
          "namelength": 0
         },
         "hovertemplate": "color=Executives-Managers-Professionals<br>x=%{x}<br>y=%{y}<br>text=%{text}",
         "legendgroup": "color=Executives-Managers-Professionals",
         "marker": {
          "color": "#ab63fa"
         },
         "name": "color=Executives-Managers-Professionals",
         "offsetgroup": "color=Executives-Managers-Professionals",
         "orientation": "v",
         "showlegend": true,
         "text": [
          16.5,
          18.3,
          25.3,
          25.4,
          25.9,
          26.6,
          27,
          27.1,
          29.5,
          30.4,
          30.6,
          31.1,
          31.6,
          31.6,
          32.2,
          32.3,
          32.4,
          33.3,
          35,
          37.2,
          37.2,
          38.4,
          39.6,
          40.6,
          43
         ],
         "textposition": "auto",
         "type": "bar",
         "x": [
          "Nvidia",
          "View",
          "NetApp",
          "Cisco",
          "Apple",
          "Intel",
          "Uber",
          "Google",
          "Facebook",
          "Square",
          "Sanmina",
          "Twitter",
          "Adobe",
          "Salesforce",
          "eBay",
          "HPE",
          "HP Inc.",
          "MobileIron",
          "PayPal",
          "LinkedIn",
          "Lyft",
          "Intuit",
          "Airbnb",
          "Pinterest",
          "23andMe"
         ],
         "xaxis": "x",
         "y": [
          16.5,
          18.3,
          25.3,
          25.4,
          25.9,
          26.6,
          27,
          27.1,
          29.5,
          30.4,
          30.6,
          31.1,
          31.6,
          31.6,
          32.2,
          32.3,
          32.4,
          33.3,
          35,
          37.2,
          37.2,
          38.4,
          39.6,
          40.6,
          43
         ],
         "yaxis": "y"
        },
        {
         "alignmentgroup": "True",
         "hoverlabel": {
          "namelength": 0
         },
         "hovertemplate": "color=Executives and Managers<br>x=%{x}<br>y=%{y}<br>text=%{text}",
         "legendgroup": "color=Executives and Managers",
         "marker": {
          "color": "#FFA15A"
         },
         "name": "color=Executives and Managers",
         "offsetgroup": "color=Executives and Managers",
         "orientation": "v",
         "showlegend": true,
         "text": [
          11,
          16.5,
          20.2,
          22.7,
          22.7,
          25.1,
          26.3,
          27.2,
          27.3,
          28.3,
          28.4,
          30.2,
          30.5,
          32.6,
          34.2,
          34.8,
          36.1,
          36.7,
          36.9,
          37.5,
          38.1,
          40.6,
          40.8,
          40.9,
          45.1
         ],
         "textposition": "auto",
         "type": "bar",
         "x": [
          "View",
          "Nvidia",
          "MobileIron",
          "Cisco",
          "Intel",
          "Sanmina",
          "NetApp",
          "Uber",
          "Apple",
          "HP Inc.",
          "HPE",
          "Facebook",
          "Salesforce",
          "Square",
          "Adobe",
          "Twitter",
          "Lyft",
          "LinkedIn",
          "Google",
          "Pinterest",
          "eBay",
          "Airbnb",
          "PayPal",
          "Intuit",
          "23andMe"
         ],
         "xaxis": "x",
         "y": [
          11,
          16.5,
          20.2,
          22.7,
          22.7,
          25.1,
          26.3,
          27.2,
          27.3,
          28.3,
          28.4,
          30.2,
          30.5,
          32.6,
          34.2,
          34.8,
          36.1,
          36.7,
          36.9,
          37.5,
          38.1,
          40.6,
          40.8,
          40.9,
          45.1
         ],
         "yaxis": "y"
        },
        {
         "alignmentgroup": "True",
         "hoverlabel": {
          "namelength": 0
         },
         "hovertemplate": "color=Managers<br>x=%{x}<br>y=%{y}<br>text=%{text}",
         "legendgroup": "color=Managers",
         "marker": {
          "color": "#19d3f3"
         },
         "name": "color=Managers",
         "offsetgroup": "color=Managers",
         "orientation": "v",
         "showlegend": true,
         "text": [
          12.8,
          20.3,
          20.3,
          22.8,
          22.9,
          26.3,
          27.3,
          27.4,
          28.6,
          28.7,
          29.6,
          30.9,
          31,
          32.4,
          34.7,
          35.6,
          36.7,
          36.9,
          37.1,
          38.4,
          41.7,
          42.2,
          42.5,
          44.1,
          44.6
         ],
         "textposition": "auto",
         "type": "bar",
         "x": [
          "View",
          "MobileIron",
          "Nvidia",
          "Cisco",
          "Intel",
          "NetApp",
          "Uber",
          "Apple",
          "Sanmina",
          "HP Inc.",
          "HPE",
          "Facebook",
          "Salesforce",
          "Square",
          "Adobe",
          "Twitter",
          "LinkedIn",
          "Google",
          "Lyft",
          "eBay",
          "PayPal",
          "Intuit",
          "Pinterest",
          "Airbnb",
          "23andMe"
         ],
         "xaxis": "x",
         "y": [
          12.8,
          20.3,
          20.3,
          22.8,
          22.9,
          26.3,
          27.3,
          27.4,
          28.6,
          28.7,
          29.6,
          30.9,
          31,
          32.4,
          34.7,
          35.6,
          36.7,
          36.9,
          37.1,
          38.4,
          41.7,
          42.2,
          42.5,
          44.1,
          44.6
         ],
         "yaxis": "y"
        },
        {
         "alignmentgroup": "True",
         "hoverlabel": {
          "namelength": 0
         },
         "hovertemplate": "color=Sales workers/admin support/technicians and others<br>x=%{x}<br>y=%{y}<br>text=%{text}",
         "legendgroup": "color=Sales workers/admin support/technicians and others",
         "marker": {
          "color": "#FF6692"
         },
         "name": "color=Sales workers/admin support/technicians and others",
         "offsetgroup": "color=Sales workers/admin support/technicians and others",
         "orientation": "v",
         "showlegend": true,
         "text": [
          15.9,
          15.9,
          20.4,
          23.6,
          27.9,
          31.7,
          32.9,
          34,
          34.1,
          35.9,
          36.6,
          43.7,
          44.6,
          46,
          47.9,
          51.7,
          52.2,
          53.2,
          53.5,
          55.4,
          55.6,
          55.9,
          58.7,
          59.8,
          89.1
         ],
         "textposition": "auto",
         "type": "bar",
         "x": [
          "NetApp",
          "View",
          "MobileIron",
          "Intel",
          "HP Inc.",
          "Cisco",
          "Salesforce",
          "Adobe",
          "Apple",
          "HPE",
          "Nvidia",
          "Sanmina",
          "Square",
          "Uber",
          "eBay",
          "Google",
          "LinkedIn",
          "Lyft",
          "Facebook",
          "Intuit",
          "PayPal",
          "Airbnb",
          "Twitter",
          "Pinterest",
          "23andMe"
         ],
         "xaxis": "x",
         "y": [
          15.9,
          15.9,
          20.4,
          23.6,
          27.9,
          31.7,
          32.9,
          34,
          34.1,
          35.9,
          36.6,
          43.7,
          44.6,
          46,
          47.9,
          51.7,
          52.2,
          53.2,
          53.5,
          55.4,
          55.6,
          55.9,
          58.7,
          59.8,
          89.1
         ],
         "yaxis": "y"
        }
       ],
       "layout": {
        "barmode": "relative",
        "font": {
         "color": "Black",
         "family": "Courier new, monospace",
         "size": 10
        },
        "height": 600,
        "legend": {
         "tracegroupgap": 0
        },
        "margin": {
         "t": 60
        },
        "template": {
         "data": {
          "bar": [
           {
            "error_x": {
             "color": "#2a3f5f"
            },
            "error_y": {
             "color": "#2a3f5f"
            },
            "marker": {
             "line": {
              "color": "#E5ECF6",
              "width": 0.5
             }
            },
            "type": "bar"
           }
          ],
          "barpolar": [
           {
            "marker": {
             "line": {
              "color": "#E5ECF6",
              "width": 0.5
             }
            },
            "type": "barpolar"
           }
          ],
          "carpet": [
           {
            "aaxis": {
             "endlinecolor": "#2a3f5f",
             "gridcolor": "white",
             "linecolor": "white",
             "minorgridcolor": "white",
             "startlinecolor": "#2a3f5f"
            },
            "baxis": {
             "endlinecolor": "#2a3f5f",
             "gridcolor": "white",
             "linecolor": "white",
             "minorgridcolor": "white",
             "startlinecolor": "#2a3f5f"
            },
            "type": "carpet"
           }
          ],
          "choropleth": [
           {
            "colorbar": {
             "outlinewidth": 0,
             "ticks": ""
            },
            "type": "choropleth"
           }
          ],
          "contour": [
           {
            "colorbar": {
             "outlinewidth": 0,
             "ticks": ""
            },
            "colorscale": [
             [
              0,
              "#0d0887"
             ],
             [
              0.1111111111111111,
              "#46039f"
             ],
             [
              0.2222222222222222,
              "#7201a8"
             ],
             [
              0.3333333333333333,
              "#9c179e"
             ],
             [
              0.4444444444444444,
              "#bd3786"
             ],
             [
              0.5555555555555556,
              "#d8576b"
             ],
             [
              0.6666666666666666,
              "#ed7953"
             ],
             [
              0.7777777777777778,
              "#fb9f3a"
             ],
             [
              0.8888888888888888,
              "#fdca26"
             ],
             [
              1,
              "#f0f921"
             ]
            ],
            "type": "contour"
           }
          ],
          "contourcarpet": [
           {
            "colorbar": {
             "outlinewidth": 0,
             "ticks": ""
            },
            "type": "contourcarpet"
           }
          ],
          "heatmap": [
           {
            "colorbar": {
             "outlinewidth": 0,
             "ticks": ""
            },
            "colorscale": [
             [
              0,
              "#0d0887"
             ],
             [
              0.1111111111111111,
              "#46039f"
             ],
             [
              0.2222222222222222,
              "#7201a8"
             ],
             [
              0.3333333333333333,
              "#9c179e"
             ],
             [
              0.4444444444444444,
              "#bd3786"
             ],
             [
              0.5555555555555556,
              "#d8576b"
             ],
             [
              0.6666666666666666,
              "#ed7953"
             ],
             [
              0.7777777777777778,
              "#fb9f3a"
             ],
             [
              0.8888888888888888,
              "#fdca26"
             ],
             [
              1,
              "#f0f921"
             ]
            ],
            "type": "heatmap"
           }
          ],
          "heatmapgl": [
           {
            "colorbar": {
             "outlinewidth": 0,
             "ticks": ""
            },
            "colorscale": [
             [
              0,
              "#0d0887"
             ],
             [
              0.1111111111111111,
              "#46039f"
             ],
             [
              0.2222222222222222,
              "#7201a8"
             ],
             [
              0.3333333333333333,
              "#9c179e"
             ],
             [
              0.4444444444444444,
              "#bd3786"
             ],
             [
              0.5555555555555556,
              "#d8576b"
             ],
             [
              0.6666666666666666,
              "#ed7953"
             ],
             [
              0.7777777777777778,
              "#fb9f3a"
             ],
             [
              0.8888888888888888,
              "#fdca26"
             ],
             [
              1,
              "#f0f921"
             ]
            ],
            "type": "heatmapgl"
           }
          ],
          "histogram": [
           {
            "marker": {
             "colorbar": {
              "outlinewidth": 0,
              "ticks": ""
             }
            },
            "type": "histogram"
           }
          ],
          "histogram2d": [
           {
            "colorbar": {
             "outlinewidth": 0,
             "ticks": ""
            },
            "colorscale": [
             [
              0,
              "#0d0887"
             ],
             [
              0.1111111111111111,
              "#46039f"
             ],
             [
              0.2222222222222222,
              "#7201a8"
             ],
             [
              0.3333333333333333,
              "#9c179e"
             ],
             [
              0.4444444444444444,
              "#bd3786"
             ],
             [
              0.5555555555555556,
              "#d8576b"
             ],
             [
              0.6666666666666666,
              "#ed7953"
             ],
             [
              0.7777777777777778,
              "#fb9f3a"
             ],
             [
              0.8888888888888888,
              "#fdca26"
             ],
             [
              1,
              "#f0f921"
             ]
            ],
            "type": "histogram2d"
           }
          ],
          "histogram2dcontour": [
           {
            "colorbar": {
             "outlinewidth": 0,
             "ticks": ""
            },
            "colorscale": [
             [
              0,
              "#0d0887"
             ],
             [
              0.1111111111111111,
              "#46039f"
             ],
             [
              0.2222222222222222,
              "#7201a8"
             ],
             [
              0.3333333333333333,
              "#9c179e"
             ],
             [
              0.4444444444444444,
              "#bd3786"
             ],
             [
              0.5555555555555556,
              "#d8576b"
             ],
             [
              0.6666666666666666,
              "#ed7953"
             ],
             [
              0.7777777777777778,
              "#fb9f3a"
             ],
             [
              0.8888888888888888,
              "#fdca26"
             ],
             [
              1,
              "#f0f921"
             ]
            ],
            "type": "histogram2dcontour"
           }
          ],
          "mesh3d": [
           {
            "colorbar": {
             "outlinewidth": 0,
             "ticks": ""
            },
            "type": "mesh3d"
           }
          ],
          "parcoords": [
           {
            "line": {
             "colorbar": {
              "outlinewidth": 0,
              "ticks": ""
             }
            },
            "type": "parcoords"
           }
          ],
          "pie": [
           {
            "automargin": true,
            "type": "pie"
           }
          ],
          "scatter": [
           {
            "marker": {
             "colorbar": {
              "outlinewidth": 0,
              "ticks": ""
             }
            },
            "type": "scatter"
           }
          ],
          "scatter3d": [
           {
            "line": {
             "colorbar": {
              "outlinewidth": 0,
              "ticks": ""
             }
            },
            "marker": {
             "colorbar": {
              "outlinewidth": 0,
              "ticks": ""
             }
            },
            "type": "scatter3d"
           }
          ],
          "scattercarpet": [
           {
            "marker": {
             "colorbar": {
              "outlinewidth": 0,
              "ticks": ""
             }
            },
            "type": "scattercarpet"
           }
          ],
          "scattergeo": [
           {
            "marker": {
             "colorbar": {
              "outlinewidth": 0,
              "ticks": ""
             }
            },
            "type": "scattergeo"
           }
          ],
          "scattergl": [
           {
            "marker": {
             "colorbar": {
              "outlinewidth": 0,
              "ticks": ""
             }
            },
            "type": "scattergl"
           }
          ],
          "scattermapbox": [
           {
            "marker": {
             "colorbar": {
              "outlinewidth": 0,
              "ticks": ""
             }
            },
            "type": "scattermapbox"
           }
          ],
          "scatterpolar": [
           {
            "marker": {
             "colorbar": {
              "outlinewidth": 0,
              "ticks": ""
             }
            },
            "type": "scatterpolar"
           }
          ],
          "scatterpolargl": [
           {
            "marker": {
             "colorbar": {
              "outlinewidth": 0,
              "ticks": ""
             }
            },
            "type": "scatterpolargl"
           }
          ],
          "scatterternary": [
           {
            "marker": {
             "colorbar": {
              "outlinewidth": 0,
              "ticks": ""
             }
            },
            "type": "scatterternary"
           }
          ],
          "surface": [
           {
            "colorbar": {
             "outlinewidth": 0,
             "ticks": ""
            },
            "colorscale": [
             [
              0,
              "#0d0887"
             ],
             [
              0.1111111111111111,
              "#46039f"
             ],
             [
              0.2222222222222222,
              "#7201a8"
             ],
             [
              0.3333333333333333,
              "#9c179e"
             ],
             [
              0.4444444444444444,
              "#bd3786"
             ],
             [
              0.5555555555555556,
              "#d8576b"
             ],
             [
              0.6666666666666666,
              "#ed7953"
             ],
             [
              0.7777777777777778,
              "#fb9f3a"
             ],
             [
              0.8888888888888888,
              "#fdca26"
             ],
             [
              1,
              "#f0f921"
             ]
            ],
            "type": "surface"
           }
          ],
          "table": [
           {
            "cells": {
             "fill": {
              "color": "#EBF0F8"
             },
             "line": {
              "color": "white"
             }
            },
            "header": {
             "fill": {
              "color": "#C8D4E3"
             },
             "line": {
              "color": "white"
             }
            },
            "type": "table"
           }
          ]
         },
         "layout": {
          "annotationdefaults": {
           "arrowcolor": "#2a3f5f",
           "arrowhead": 0,
           "arrowwidth": 1
          },
          "coloraxis": {
           "colorbar": {
            "outlinewidth": 0,
            "ticks": ""
           }
          },
          "colorscale": {
           "diverging": [
            [
             0,
             "#8e0152"
            ],
            [
             0.1,
             "#c51b7d"
            ],
            [
             0.2,
             "#de77ae"
            ],
            [
             0.3,
             "#f1b6da"
            ],
            [
             0.4,
             "#fde0ef"
            ],
            [
             0.5,
             "#f7f7f7"
            ],
            [
             0.6,
             "#e6f5d0"
            ],
            [
             0.7,
             "#b8e186"
            ],
            [
             0.8,
             "#7fbc41"
            ],
            [
             0.9,
             "#4d9221"
            ],
            [
             1,
             "#276419"
            ]
           ],
           "sequential": [
            [
             0,
             "#0d0887"
            ],
            [
             0.1111111111111111,
             "#46039f"
            ],
            [
             0.2222222222222222,
             "#7201a8"
            ],
            [
             0.3333333333333333,
             "#9c179e"
            ],
            [
             0.4444444444444444,
             "#bd3786"
            ],
            [
             0.5555555555555556,
             "#d8576b"
            ],
            [
             0.6666666666666666,
             "#ed7953"
            ],
            [
             0.7777777777777778,
             "#fb9f3a"
            ],
            [
             0.8888888888888888,
             "#fdca26"
            ],
            [
             1,
             "#f0f921"
            ]
           ],
           "sequentialminus": [
            [
             0,
             "#0d0887"
            ],
            [
             0.1111111111111111,
             "#46039f"
            ],
            [
             0.2222222222222222,
             "#7201a8"
            ],
            [
             0.3333333333333333,
             "#9c179e"
            ],
            [
             0.4444444444444444,
             "#bd3786"
            ],
            [
             0.5555555555555556,
             "#d8576b"
            ],
            [
             0.6666666666666666,
             "#ed7953"
            ],
            [
             0.7777777777777778,
             "#fb9f3a"
            ],
            [
             0.8888888888888888,
             "#fdca26"
            ],
            [
             1,
             "#f0f921"
            ]
           ]
          },
          "colorway": [
           "#636efa",
           "#EF553B",
           "#00cc96",
           "#ab63fa",
           "#FFA15A",
           "#19d3f3",
           "#FF6692",
           "#B6E880",
           "#FF97FF",
           "#FECB52"
          ],
          "font": {
           "color": "#2a3f5f"
          },
          "geo": {
           "bgcolor": "white",
           "lakecolor": "white",
           "landcolor": "#E5ECF6",
           "showlakes": true,
           "showland": true,
           "subunitcolor": "white"
          },
          "hoverlabel": {
           "align": "left"
          },
          "hovermode": "closest",
          "mapbox": {
           "style": "light"
          },
          "paper_bgcolor": "white",
          "plot_bgcolor": "#E5ECF6",
          "polar": {
           "angularaxis": {
            "gridcolor": "white",
            "linecolor": "white",
            "ticks": ""
           },
           "bgcolor": "#E5ECF6",
           "radialaxis": {
            "gridcolor": "white",
            "linecolor": "white",
            "ticks": ""
           }
          },
          "scene": {
           "xaxis": {
            "backgroundcolor": "#E5ECF6",
            "gridcolor": "white",
            "gridwidth": 2,
            "linecolor": "white",
            "showbackground": true,
            "ticks": "",
            "zerolinecolor": "white"
           },
           "yaxis": {
            "backgroundcolor": "#E5ECF6",
            "gridcolor": "white",
            "gridwidth": 2,
            "linecolor": "white",
            "showbackground": true,
            "ticks": "",
            "zerolinecolor": "white"
           },
           "zaxis": {
            "backgroundcolor": "#E5ECF6",
            "gridcolor": "white",
            "gridwidth": 2,
            "linecolor": "white",
            "showbackground": true,
            "ticks": "",
            "zerolinecolor": "white"
           }
          },
          "shapedefaults": {
           "line": {
            "color": "#2a3f5f"
           }
          },
          "ternary": {
           "aaxis": {
            "gridcolor": "white",
            "linecolor": "white",
            "ticks": ""
           },
           "baxis": {
            "gridcolor": "white",
            "linecolor": "white",
            "ticks": ""
           },
           "bgcolor": "#E5ECF6",
           "caxis": {
            "gridcolor": "white",
            "linecolor": "white",
            "ticks": ""
           }
          },
          "title": {
           "x": 0.05
          },
          "xaxis": {
           "automargin": true,
           "gridcolor": "white",
           "linecolor": "white",
           "ticks": "",
           "title": {
            "standoff": 15
           },
           "zerolinecolor": "white",
           "zerolinewidth": 2
          },
          "yaxis": {
           "automargin": true,
           "gridcolor": "white",
           "linecolor": "white",
           "ticks": "",
           "title": {
            "standoff": 15
           },
           "zerolinecolor": "white",
           "zerolinewidth": 2
          }
         }
        },
        "title": {
         "text": "Female percentages at tech companies across job categories"
        },
        "xaxis": {
         "anchor": "y",
         "domain": [
          0,
          1
         ],
         "title": {
          "text": "Company"
         }
        },
        "yaxis": {
         "anchor": "x",
         "domain": [
          0,
          1
         ],
         "title": {
          "text": "Percentage of women"
         }
        }
       }
      },
      "text/html": [
       "<div>\n",
       "        \n",
       "        \n",
       "            <div id=\"2ae67517-22a3-4777-ab1d-014df2d24c62\" class=\"plotly-graph-div\" style=\"height:600px; width:100%;\"></div>\n",
       "            <script type=\"text/javascript\">\n",
       "                require([\"plotly\"], function(Plotly) {\n",
       "                    window.PLOTLYENV=window.PLOTLYENV || {};\n",
       "                    \n",
       "                if (document.getElementById(\"2ae67517-22a3-4777-ab1d-014df2d24c62\")) {\n",
       "                    Plotly.newPlot(\n",
       "                        '2ae67517-22a3-4777-ab1d-014df2d24c62',\n",
       "                        [{\"alignmentgroup\": \"True\", \"hoverlabel\": {\"namelength\": 0}, \"hovertemplate\": \"color=Professionals<br>x=%{x}<br>y=%{y}<br>text=%{text}\", \"legendgroup\": \"color=Professionals\", \"marker\": {\"color\": \"#636efa\"}, \"name\": \"color=Professionals\", \"offsetgroup\": \"color=Professionals\", \"orientation\": \"v\", \"showlegend\": true, \"text\": [16.4, 22.5, 23.8, 25.0, 25.5, 26.0, 26.9, 27.3, 29.3, 29.4, 29.5, 29.8, 30.3, 32.0, 32.6, 33.0, 33.5, 34.1, 37.0, 37.3, 37.6, 37.6, 39.2, 40.8, 42.0], \"textposition\": \"auto\", \"type\": \"bar\", \"x\": [\"Nvidia\", \"View\", \"Google\", \"NetApp\", \"Apple\", \"Cisco\", \"Uber\", \"Intel\", \"eBay\", \"Facebook\", \"Adobe\", \"Square\", \"Twitter\", \"Salesforce\", \"PayPal\", \"HPE\", \"HP Inc.\", \"Sanmina\", \"MobileIron\", \"LinkedIn\", \"Intuit\", \"Lyft\", \"Airbnb\", \"Pinterest\", \"23andMe\"], \"xaxis\": \"x\", \"y\": [16.4, 22.5, 23.8, 25.0, 25.5, 26.0, 26.9, 27.3, 29.3, 29.4, 29.5, 29.8, 30.3, 32.0, 32.6, 33.0, 33.5, 34.1, 37.0, 37.3, 37.6, 37.6, 39.2, 40.8, 42.0], \"yaxis\": \"y\"}, {\"alignmentgroup\": \"True\", \"hoverlabel\": {\"namelength\": 0}, \"hovertemplate\": \"color=Executives<br>x=%{x}<br>y=%{y}<br>text=%{text}\", \"legendgroup\": \"color=Executives\", \"marker\": {\"color\": \"#EF553B\"}, \"name\": \"color=Executives\", \"offsetgroup\": \"color=Executives\", \"orientation\": \"v\", \"showlegend\": true, \"text\": [8.2, 8.8, 11.5, 12.5, 12.9, 13.2, 17.2, 18.7, 19.4, 20.0, 20.0, 20.5, 24.2, 24.5, 24.8, 25.0, 26.8, 27.7, 28.0, 29.1, 29.9, 31.4, 36.4, 36.8, 47.1], \"textposition\": \"auto\", \"type\": \"bar\", \"x\": [\"Sanmina\", \"View\", \"Nvidia\", \"Pinterest\", \"Google\", \"Intel\", \"HPE\", \"Apple\", \"Adobe\", \"MobileIron\", \"Lyft\", \"Cisco\", \"PayPal\", \"Salesforce\", \"HP Inc.\", \"NetApp\", \"Uber\", \"Twitter\", \"Facebook\", \"Intuit\", \"Airbnb\", \"eBay\", \"Square\", \"LinkedIn\", \"23andMe\"], \"xaxis\": \"x\", \"y\": [8.2, 8.8, 11.5, 12.5, 12.9, 13.2, 17.2, 18.7, 19.4, 20.0, 20.0, 20.5, 24.2, 24.5, 24.8, 25.0, 26.8, 27.7, 28.0, 29.1, 29.9, 31.4, 36.4, 36.8, 47.1], \"yaxis\": \"y\"}, {\"alignmentgroup\": \"True\", \"hoverlabel\": {\"namelength\": 0}, \"hovertemplate\": \"color=All Workers<br>x=%{x}<br>y=%{y}<br>text=%{text}\", \"legendgroup\": \"color=All Workers\", \"marker\": {\"color\": \"#00cc96\"}, \"name\": \"color=All Workers\", \"offsetgroup\": \"color=All Workers\", \"orientation\": \"v\", \"showlegend\": true, \"text\": [17.0, 17.2, 24.0, 26.0, 26.2, 29.2, 29.5, 30.7, 30.8, 31.0, 31.7, 31.9, 32.2, 33.1, 34.6, 35.4, 35.9, 39.0, 40.2, 42.5, 42.9, 42.9, 42.9, 43.1, 50.2], \"textposition\": \"auto\", \"type\": \"bar\", \"x\": [\"View\", \"Nvidia\", \"NetApp\", \"Intel\", \"Cisco\", \"Google\", \"Uber\", \"Apple\", \"MobileIron\", \"HP Inc.\", \"Facebook\", \"Salesforce\", \"Adobe\", \"HPE\", \"Square\", \"Twitter\", \"eBay\", \"Sanmina\", \"LinkedIn\", \"Lyft\", \"Airbnb\", \"Intuit\", \"PayPal\", \"Pinterest\", \"23andMe\"], \"xaxis\": \"x\", \"y\": [17.0, 17.2, 24.0, 26.0, 26.2, 29.2, 29.5, 30.7, 30.8, 31.0, 31.7, 31.9, 32.2, 33.1, 34.6, 35.4, 35.9, 39.0, 40.2, 42.5, 42.9, 42.9, 42.9, 43.1, 50.2], \"yaxis\": \"y\"}, {\"alignmentgroup\": \"True\", \"hoverlabel\": {\"namelength\": 0}, \"hovertemplate\": \"color=Executives-Managers-Professionals<br>x=%{x}<br>y=%{y}<br>text=%{text}\", \"legendgroup\": \"color=Executives-Managers-Professionals\", \"marker\": {\"color\": \"#ab63fa\"}, \"name\": \"color=Executives-Managers-Professionals\", \"offsetgroup\": \"color=Executives-Managers-Professionals\", \"orientation\": \"v\", \"showlegend\": true, \"text\": [16.5, 18.3, 25.3, 25.4, 25.9, 26.6, 27.0, 27.1, 29.5, 30.4, 30.6, 31.1, 31.6, 31.6, 32.2, 32.3, 32.4, 33.3, 35.0, 37.2, 37.2, 38.4, 39.6, 40.6, 43.0], \"textposition\": \"auto\", \"type\": \"bar\", \"x\": [\"Nvidia\", \"View\", \"NetApp\", \"Cisco\", \"Apple\", \"Intel\", \"Uber\", \"Google\", \"Facebook\", \"Square\", \"Sanmina\", \"Twitter\", \"Adobe\", \"Salesforce\", \"eBay\", \"HPE\", \"HP Inc.\", \"MobileIron\", \"PayPal\", \"LinkedIn\", \"Lyft\", \"Intuit\", \"Airbnb\", \"Pinterest\", \"23andMe\"], \"xaxis\": \"x\", \"y\": [16.5, 18.3, 25.3, 25.4, 25.9, 26.6, 27.0, 27.1, 29.5, 30.4, 30.6, 31.1, 31.6, 31.6, 32.2, 32.3, 32.4, 33.3, 35.0, 37.2, 37.2, 38.4, 39.6, 40.6, 43.0], \"yaxis\": \"y\"}, {\"alignmentgroup\": \"True\", \"hoverlabel\": {\"namelength\": 0}, \"hovertemplate\": \"color=Executives and Managers<br>x=%{x}<br>y=%{y}<br>text=%{text}\", \"legendgroup\": \"color=Executives and Managers\", \"marker\": {\"color\": \"#FFA15A\"}, \"name\": \"color=Executives and Managers\", \"offsetgroup\": \"color=Executives and Managers\", \"orientation\": \"v\", \"showlegend\": true, \"text\": [11.0, 16.5, 20.2, 22.7, 22.7, 25.1, 26.3, 27.2, 27.3, 28.3, 28.4, 30.2, 30.5, 32.6, 34.2, 34.8, 36.1, 36.7, 36.9, 37.5, 38.1, 40.6, 40.8, 40.9, 45.1], \"textposition\": \"auto\", \"type\": \"bar\", \"x\": [\"View\", \"Nvidia\", \"MobileIron\", \"Cisco\", \"Intel\", \"Sanmina\", \"NetApp\", \"Uber\", \"Apple\", \"HP Inc.\", \"HPE\", \"Facebook\", \"Salesforce\", \"Square\", \"Adobe\", \"Twitter\", \"Lyft\", \"LinkedIn\", \"Google\", \"Pinterest\", \"eBay\", \"Airbnb\", \"PayPal\", \"Intuit\", \"23andMe\"], \"xaxis\": \"x\", \"y\": [11.0, 16.5, 20.2, 22.7, 22.7, 25.1, 26.3, 27.2, 27.3, 28.3, 28.4, 30.2, 30.5, 32.6, 34.2, 34.8, 36.1, 36.7, 36.9, 37.5, 38.1, 40.6, 40.8, 40.9, 45.1], \"yaxis\": \"y\"}, {\"alignmentgroup\": \"True\", \"hoverlabel\": {\"namelength\": 0}, \"hovertemplate\": \"color=Managers<br>x=%{x}<br>y=%{y}<br>text=%{text}\", \"legendgroup\": \"color=Managers\", \"marker\": {\"color\": \"#19d3f3\"}, \"name\": \"color=Managers\", \"offsetgroup\": \"color=Managers\", \"orientation\": \"v\", \"showlegend\": true, \"text\": [12.8, 20.3, 20.3, 22.8, 22.9, 26.3, 27.3, 27.4, 28.6, 28.7, 29.6, 30.9, 31.0, 32.4, 34.7, 35.6, 36.7, 36.9, 37.1, 38.4, 41.7, 42.2, 42.5, 44.1, 44.6], \"textposition\": \"auto\", \"type\": \"bar\", \"x\": [\"View\", \"MobileIron\", \"Nvidia\", \"Cisco\", \"Intel\", \"NetApp\", \"Uber\", \"Apple\", \"Sanmina\", \"HP Inc.\", \"HPE\", \"Facebook\", \"Salesforce\", \"Square\", \"Adobe\", \"Twitter\", \"LinkedIn\", \"Google\", \"Lyft\", \"eBay\", \"PayPal\", \"Intuit\", \"Pinterest\", \"Airbnb\", \"23andMe\"], \"xaxis\": \"x\", \"y\": [12.8, 20.3, 20.3, 22.8, 22.9, 26.3, 27.3, 27.4, 28.6, 28.7, 29.6, 30.9, 31.0, 32.4, 34.7, 35.6, 36.7, 36.9, 37.1, 38.4, 41.7, 42.2, 42.5, 44.1, 44.6], \"yaxis\": \"y\"}, {\"alignmentgroup\": \"True\", \"hoverlabel\": {\"namelength\": 0}, \"hovertemplate\": \"color=Sales workers/admin support/technicians and others<br>x=%{x}<br>y=%{y}<br>text=%{text}\", \"legendgroup\": \"color=Sales workers/admin support/technicians and others\", \"marker\": {\"color\": \"#FF6692\"}, \"name\": \"color=Sales workers/admin support/technicians and others\", \"offsetgroup\": \"color=Sales workers/admin support/technicians and others\", \"orientation\": \"v\", \"showlegend\": true, \"text\": [15.9, 15.9, 20.4, 23.6, 27.9, 31.7, 32.9, 34.0, 34.1, 35.9, 36.6, 43.7, 44.6, 46.0, 47.9, 51.7, 52.2, 53.2, 53.5, 55.4, 55.6, 55.9, 58.7, 59.8, 89.1], \"textposition\": \"auto\", \"type\": \"bar\", \"x\": [\"NetApp\", \"View\", \"MobileIron\", \"Intel\", \"HP Inc.\", \"Cisco\", \"Salesforce\", \"Adobe\", \"Apple\", \"HPE\", \"Nvidia\", \"Sanmina\", \"Square\", \"Uber\", \"eBay\", \"Google\", \"LinkedIn\", \"Lyft\", \"Facebook\", \"Intuit\", \"PayPal\", \"Airbnb\", \"Twitter\", \"Pinterest\", \"23andMe\"], \"xaxis\": \"x\", \"y\": [15.9, 15.9, 20.4, 23.6, 27.9, 31.7, 32.9, 34.0, 34.1, 35.9, 36.6, 43.7, 44.6, 46.0, 47.9, 51.7, 52.2, 53.2, 53.5, 55.4, 55.6, 55.9, 58.7, 59.8, 89.1], \"yaxis\": \"y\"}],\n",
       "                        {\"barmode\": \"relative\", \"font\": {\"color\": \"Black\", \"family\": \"Courier new, monospace\", \"size\": 10}, \"height\": 600, \"legend\": {\"tracegroupgap\": 0}, \"margin\": {\"t\": 60}, \"template\": {\"data\": {\"bar\": [{\"error_x\": {\"color\": \"#2a3f5f\"}, \"error_y\": {\"color\": \"#2a3f5f\"}, \"marker\": {\"line\": {\"color\": \"#E5ECF6\", \"width\": 0.5}}, \"type\": \"bar\"}], \"barpolar\": [{\"marker\": {\"line\": {\"color\": \"#E5ECF6\", \"width\": 0.5}}, \"type\": \"barpolar\"}], \"carpet\": [{\"aaxis\": {\"endlinecolor\": \"#2a3f5f\", \"gridcolor\": \"white\", \"linecolor\": \"white\", \"minorgridcolor\": \"white\", \"startlinecolor\": \"#2a3f5f\"}, \"baxis\": {\"endlinecolor\": \"#2a3f5f\", \"gridcolor\": \"white\", \"linecolor\": \"white\", \"minorgridcolor\": \"white\", \"startlinecolor\": \"#2a3f5f\"}, \"type\": \"carpet\"}], \"choropleth\": [{\"colorbar\": {\"outlinewidth\": 0, \"ticks\": \"\"}, \"type\": \"choropleth\"}], \"contour\": [{\"colorbar\": {\"outlinewidth\": 0, \"ticks\": \"\"}, \"colorscale\": [[0.0, \"#0d0887\"], [0.1111111111111111, \"#46039f\"], [0.2222222222222222, \"#7201a8\"], [0.3333333333333333, \"#9c179e\"], [0.4444444444444444, \"#bd3786\"], [0.5555555555555556, \"#d8576b\"], [0.6666666666666666, \"#ed7953\"], [0.7777777777777778, \"#fb9f3a\"], [0.8888888888888888, \"#fdca26\"], [1.0, \"#f0f921\"]], \"type\": \"contour\"}], \"contourcarpet\": [{\"colorbar\": {\"outlinewidth\": 0, \"ticks\": \"\"}, \"type\": \"contourcarpet\"}], \"heatmap\": [{\"colorbar\": {\"outlinewidth\": 0, \"ticks\": \"\"}, \"colorscale\": [[0.0, \"#0d0887\"], [0.1111111111111111, \"#46039f\"], [0.2222222222222222, \"#7201a8\"], [0.3333333333333333, \"#9c179e\"], [0.4444444444444444, \"#bd3786\"], [0.5555555555555556, \"#d8576b\"], [0.6666666666666666, \"#ed7953\"], [0.7777777777777778, \"#fb9f3a\"], [0.8888888888888888, \"#fdca26\"], [1.0, \"#f0f921\"]], \"type\": \"heatmap\"}], \"heatmapgl\": [{\"colorbar\": {\"outlinewidth\": 0, \"ticks\": \"\"}, \"colorscale\": [[0.0, \"#0d0887\"], [0.1111111111111111, \"#46039f\"], [0.2222222222222222, \"#7201a8\"], [0.3333333333333333, \"#9c179e\"], [0.4444444444444444, \"#bd3786\"], [0.5555555555555556, \"#d8576b\"], [0.6666666666666666, \"#ed7953\"], [0.7777777777777778, \"#fb9f3a\"], [0.8888888888888888, \"#fdca26\"], [1.0, \"#f0f921\"]], \"type\": \"heatmapgl\"}], \"histogram\": [{\"marker\": {\"colorbar\": {\"outlinewidth\": 0, \"ticks\": \"\"}}, \"type\": \"histogram\"}], \"histogram2d\": [{\"colorbar\": {\"outlinewidth\": 0, \"ticks\": \"\"}, \"colorscale\": [[0.0, \"#0d0887\"], [0.1111111111111111, \"#46039f\"], [0.2222222222222222, \"#7201a8\"], [0.3333333333333333, \"#9c179e\"], [0.4444444444444444, \"#bd3786\"], [0.5555555555555556, \"#d8576b\"], [0.6666666666666666, \"#ed7953\"], [0.7777777777777778, \"#fb9f3a\"], [0.8888888888888888, \"#fdca26\"], [1.0, \"#f0f921\"]], \"type\": \"histogram2d\"}], \"histogram2dcontour\": [{\"colorbar\": {\"outlinewidth\": 0, \"ticks\": \"\"}, \"colorscale\": [[0.0, \"#0d0887\"], [0.1111111111111111, \"#46039f\"], [0.2222222222222222, \"#7201a8\"], [0.3333333333333333, \"#9c179e\"], [0.4444444444444444, \"#bd3786\"], [0.5555555555555556, \"#d8576b\"], [0.6666666666666666, \"#ed7953\"], [0.7777777777777778, \"#fb9f3a\"], [0.8888888888888888, \"#fdca26\"], [1.0, \"#f0f921\"]], \"type\": \"histogram2dcontour\"}], \"mesh3d\": [{\"colorbar\": {\"outlinewidth\": 0, \"ticks\": \"\"}, \"type\": \"mesh3d\"}], \"parcoords\": [{\"line\": {\"colorbar\": {\"outlinewidth\": 0, \"ticks\": \"\"}}, \"type\": \"parcoords\"}], \"pie\": [{\"automargin\": true, \"type\": \"pie\"}], \"scatter\": [{\"marker\": {\"colorbar\": {\"outlinewidth\": 0, \"ticks\": \"\"}}, \"type\": \"scatter\"}], \"scatter3d\": [{\"line\": {\"colorbar\": {\"outlinewidth\": 0, \"ticks\": \"\"}}, \"marker\": {\"colorbar\": {\"outlinewidth\": 0, \"ticks\": \"\"}}, \"type\": \"scatter3d\"}], \"scattercarpet\": [{\"marker\": {\"colorbar\": {\"outlinewidth\": 0, \"ticks\": \"\"}}, \"type\": \"scattercarpet\"}], \"scattergeo\": [{\"marker\": {\"colorbar\": {\"outlinewidth\": 0, \"ticks\": \"\"}}, \"type\": \"scattergeo\"}], \"scattergl\": [{\"marker\": {\"colorbar\": {\"outlinewidth\": 0, \"ticks\": \"\"}}, \"type\": \"scattergl\"}], \"scattermapbox\": [{\"marker\": {\"colorbar\": {\"outlinewidth\": 0, \"ticks\": \"\"}}, \"type\": \"scattermapbox\"}], \"scatterpolar\": [{\"marker\": {\"colorbar\": {\"outlinewidth\": 0, \"ticks\": \"\"}}, \"type\": \"scatterpolar\"}], \"scatterpolargl\": [{\"marker\": {\"colorbar\": {\"outlinewidth\": 0, \"ticks\": \"\"}}, \"type\": \"scatterpolargl\"}], \"scatterternary\": [{\"marker\": {\"colorbar\": {\"outlinewidth\": 0, \"ticks\": \"\"}}, \"type\": \"scatterternary\"}], \"surface\": [{\"colorbar\": {\"outlinewidth\": 0, \"ticks\": \"\"}, \"colorscale\": [[0.0, \"#0d0887\"], [0.1111111111111111, \"#46039f\"], [0.2222222222222222, \"#7201a8\"], [0.3333333333333333, \"#9c179e\"], [0.4444444444444444, \"#bd3786\"], [0.5555555555555556, \"#d8576b\"], [0.6666666666666666, \"#ed7953\"], [0.7777777777777778, \"#fb9f3a\"], [0.8888888888888888, \"#fdca26\"], [1.0, \"#f0f921\"]], \"type\": \"surface\"}], \"table\": [{\"cells\": {\"fill\": {\"color\": \"#EBF0F8\"}, \"line\": {\"color\": \"white\"}}, \"header\": {\"fill\": {\"color\": \"#C8D4E3\"}, \"line\": {\"color\": \"white\"}}, \"type\": \"table\"}]}, \"layout\": {\"annotationdefaults\": {\"arrowcolor\": \"#2a3f5f\", \"arrowhead\": 0, \"arrowwidth\": 1}, \"coloraxis\": {\"colorbar\": {\"outlinewidth\": 0, \"ticks\": \"\"}}, \"colorscale\": {\"diverging\": [[0, \"#8e0152\"], [0.1, \"#c51b7d\"], [0.2, \"#de77ae\"], [0.3, \"#f1b6da\"], [0.4, \"#fde0ef\"], [0.5, \"#f7f7f7\"], [0.6, \"#e6f5d0\"], [0.7, \"#b8e186\"], [0.8, \"#7fbc41\"], [0.9, \"#4d9221\"], [1, \"#276419\"]], \"sequential\": [[0.0, \"#0d0887\"], [0.1111111111111111, \"#46039f\"], [0.2222222222222222, \"#7201a8\"], [0.3333333333333333, \"#9c179e\"], [0.4444444444444444, \"#bd3786\"], [0.5555555555555556, \"#d8576b\"], [0.6666666666666666, \"#ed7953\"], [0.7777777777777778, \"#fb9f3a\"], [0.8888888888888888, \"#fdca26\"], [1.0, \"#f0f921\"]], \"sequentialminus\": [[0.0, \"#0d0887\"], [0.1111111111111111, \"#46039f\"], [0.2222222222222222, \"#7201a8\"], [0.3333333333333333, \"#9c179e\"], [0.4444444444444444, \"#bd3786\"], [0.5555555555555556, \"#d8576b\"], [0.6666666666666666, \"#ed7953\"], [0.7777777777777778, \"#fb9f3a\"], [0.8888888888888888, \"#fdca26\"], [1.0, \"#f0f921\"]]}, \"colorway\": [\"#636efa\", \"#EF553B\", \"#00cc96\", \"#ab63fa\", \"#FFA15A\", \"#19d3f3\", \"#FF6692\", \"#B6E880\", \"#FF97FF\", \"#FECB52\"], \"font\": {\"color\": \"#2a3f5f\"}, \"geo\": {\"bgcolor\": \"white\", \"lakecolor\": \"white\", \"landcolor\": \"#E5ECF6\", \"showlakes\": true, \"showland\": true, \"subunitcolor\": \"white\"}, \"hoverlabel\": {\"align\": \"left\"}, \"hovermode\": \"closest\", \"mapbox\": {\"style\": \"light\"}, \"paper_bgcolor\": \"white\", \"plot_bgcolor\": \"#E5ECF6\", \"polar\": {\"angularaxis\": {\"gridcolor\": \"white\", \"linecolor\": \"white\", \"ticks\": \"\"}, \"bgcolor\": \"#E5ECF6\", \"radialaxis\": {\"gridcolor\": \"white\", \"linecolor\": \"white\", \"ticks\": \"\"}}, \"scene\": {\"xaxis\": {\"backgroundcolor\": \"#E5ECF6\", \"gridcolor\": \"white\", \"gridwidth\": 2, \"linecolor\": \"white\", \"showbackground\": true, \"ticks\": \"\", \"zerolinecolor\": \"white\"}, \"yaxis\": {\"backgroundcolor\": \"#E5ECF6\", \"gridcolor\": \"white\", \"gridwidth\": 2, \"linecolor\": \"white\", \"showbackground\": true, \"ticks\": \"\", \"zerolinecolor\": \"white\"}, \"zaxis\": {\"backgroundcolor\": \"#E5ECF6\", \"gridcolor\": \"white\", \"gridwidth\": 2, \"linecolor\": \"white\", \"showbackground\": true, \"ticks\": \"\", \"zerolinecolor\": \"white\"}}, \"shapedefaults\": {\"line\": {\"color\": \"#2a3f5f\"}}, \"ternary\": {\"aaxis\": {\"gridcolor\": \"white\", \"linecolor\": \"white\", \"ticks\": \"\"}, \"baxis\": {\"gridcolor\": \"white\", \"linecolor\": \"white\", \"ticks\": \"\"}, \"bgcolor\": \"#E5ECF6\", \"caxis\": {\"gridcolor\": \"white\", \"linecolor\": \"white\", \"ticks\": \"\"}}, \"title\": {\"x\": 0.05}, \"xaxis\": {\"automargin\": true, \"gridcolor\": \"white\", \"linecolor\": \"white\", \"ticks\": \"\", \"title\": {\"standoff\": 15}, \"zerolinecolor\": \"white\", \"zerolinewidth\": 2}, \"yaxis\": {\"automargin\": true, \"gridcolor\": \"white\", \"linecolor\": \"white\", \"ticks\": \"\", \"title\": {\"standoff\": 15}, \"zerolinecolor\": \"white\", \"zerolinewidth\": 2}}}, \"title\": {\"text\": \"Female percentages at tech companies across job categories\"}, \"xaxis\": {\"anchor\": \"y\", \"domain\": [0.0, 1.0], \"title\": {\"text\": \"Company\"}}, \"yaxis\": {\"anchor\": \"x\", \"domain\": [0.0, 1.0], \"title\": {\"text\": \"Percentage of women\"}}},\n",
       "                        {\"responsive\": true}\n",
       "                    ).then(function(){\n",
       "                            \n",
       "var gd = document.getElementById('2ae67517-22a3-4777-ab1d-014df2d24c62');\n",
       "var x = new MutationObserver(function (mutations, observer) {{\n",
       "        var display = window.getComputedStyle(gd).display;\n",
       "        if (!display || display === 'none') {{\n",
       "            console.log([gd, 'removed!']);\n",
       "            Plotly.purge(gd);\n",
       "            observer.disconnect();\n",
       "        }}\n",
       "}});\n",
       "\n",
       "// Listen for the removal of the full notebook cells\n",
       "var notebookContainer = gd.closest('#notebook-container');\n",
       "if (notebookContainer) {{\n",
       "    x.observe(notebookContainer, {childList: true});\n",
       "}}\n",
       "\n",
       "// Listen for the clearing of the current output cell\n",
       "var outputEl = gd.closest('.output');\n",
       "if (outputEl) {{\n",
       "    x.observe(outputEl, {childList: true});\n",
       "}}\n",
       "\n",
       "                        })\n",
       "                };\n",
       "                });\n",
       "            </script>\n",
       "        </div>"
      ]
     },
     "metadata": {},
     "output_type": "display_data"
    }
   ],
   "source": [
    "# Create figure for companies vs female percentages across all job categories\n",
    "fig = px.bar(y=distfem_df2['percentage'], x=distfem_df2['company'], color = distfem_df2['job_category'],text = distfem_df2['percentage'])\n",
    "fig.update_layout(title='Female percentages at tech companies across job categories',\n",
    "                   xaxis_title='Company',\n",
    "                   yaxis_title='Percentage of women',\n",
    "                   font=dict(\n",
    "                   family=\"Courier new, monospace\",\n",
    "                   size=10,\n",
    "                   color=\"Black\"\n",
    "                ))\n",
    "display(fig)"
   ]
  },
  {
   "cell_type": "code",
   "execution_count": null,
   "metadata": {},
   "outputs": [],
   "source": []
  },
  {
   "cell_type": "code",
   "execution_count": null,
   "metadata": {},
   "outputs": [],
   "source": []
  }
 ],
 "metadata": {
  "kernelspec": {
   "display_name": "Python 3",
   "language": "python",
   "name": "python3"
  },
  "language_info": {
   "codemirror_mode": {
    "name": "ipython",
    "version": 3
   },
   "file_extension": ".py",
   "mimetype": "text/x-python",
   "name": "python",
   "nbconvert_exporter": "python",
   "pygments_lexer": "ipython3",
   "version": "3.7.3"
  }
 },
 "nbformat": 4,
 "nbformat_minor": 2
}
